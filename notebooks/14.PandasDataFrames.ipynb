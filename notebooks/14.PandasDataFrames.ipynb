{
 "cells": [
  {
   "cell_type": "code",
   "execution_count": null,
   "metadata": {
    "slideshow": {
     "slide_type": "skip"
    }
   },
   "outputs": [],
   "source": [
    "%reset -f\n",
    "%matplotlib inline\n",
    "%config InlineBackend.figure_format = 'retina'\n",
    "import pandas as pd\n",
    "import numpy as np\n",
    "import matplotlib.pyplot as plt\n",
    "\n",
    "pd.set_option(\"display.max_rows\", 8)\n",
    "plt.rcParams['figure.figsize'] = (9, 6)"
   ]
  },
  {
   "cell_type": "markdown",
   "metadata": {
    "slideshow": {
     "slide_type": "slide"
    }
   },
   "source": [
    "## Create a [DataFrame](https://pandas.pydata.org/pandas-docs/stable/dsintro.html#dataframe)"
   ]
  },
  {
   "cell_type": "code",
   "execution_count": null,
   "metadata": {
    "slideshow": {
     "slide_type": "fragment"
    }
   },
   "outputs": [],
   "source": [
    "dates = pd.date_range('20130101', periods=6)\n",
    "pd.DataFrame(np.random.randn(6,4), index=dates, columns=list('ABCD'))"
   ]
  },
  {
   "cell_type": "code",
   "execution_count": null,
   "metadata": {
    "slideshow": {
     "slide_type": "slide"
    }
   },
   "outputs": [],
   "source": [
    "pd.DataFrame({'A' : 1.,\n",
    "              'B' : pd.Timestamp('20130102'),\n",
    "              'C' : pd.Series(1,index=list(range(4)),dtype='float32'),\n",
    "              'D' : np.arange(4,dtype='int32'),\n",
    "              'E' : pd.Categorical([\"test\",\"train\",\"test\",\"train\"]),\n",
    "              'F' : 'foo' })\n"
   ]
  },
  {
   "cell_type": "markdown",
   "metadata": {
    "slideshow": {
     "slide_type": "slide"
    }
   },
   "source": [
    "# Load Data from CSV File"
   ]
  },
  {
   "cell_type": "code",
   "execution_count": null,
   "metadata": {
    "slideshow": {
     "slide_type": "fragment"
    }
   },
   "outputs": [],
   "source": [
    "url = \"https://www.fun-mooc.fr/c4x/agrocampusouest/40001S03/asset/AnaDo_JeuDonnees_TemperatFrance.csv\"\n",
    "french_cities = pd.read_csv(url, delimiter=\";\", encoding=\"latin1\", index_col=0)\n",
    "french_cities"
   ]
  },
  {
   "cell_type": "markdown",
   "metadata": {
    "slideshow": {
     "slide_type": "slide"
    }
   },
   "source": [
    "### Exercise 14.1\n",
    "\n",
    "- Use `head`and `tail` to display the begin and the end of the dataframe.\n",
    "- Set index name to \"City\"\n",
    "- Rename DataFrame Months in English. DataFrame columns are defined in a dictionary."
   ]
  },
  {
   "cell_type": "code",
   "execution_count": null,
   "metadata": {
    "slideshow": {
     "slide_type": "fragment"
    }
   },
   "outputs": [],
   "source": [
    "import locale, calendar\n",
    "\n",
    "locale.setlocale(locale.LC_ALL,'en_US')\n",
    "months = calendar.month_abbr\n",
    "print(*months)"
   ]
  },
  {
   "cell_type": "markdown",
   "metadata": {
    "slideshow": {
     "slide_type": "slide"
    }
   },
   "source": [
    "### Exercise 14.2\n",
    "- Display `Lati` column\n",
    "- `.loc` and `.iloc` allow to access individual values, slices or masked selections:\n",
    "    - Display mean temperature in Rennes during September \n",
    "    - Display mean temperature in Rennes during September and December\n",
    "    - Display mean temperature in Rennes from September to December\n",
    "- Append a new column with standard deviation of temperature along the year.\n",
    "- Remove this new column.\n",
    "- Compute maximum value of `Mean` column.\n",
    "- Compute maximum value of `Ampl` column.\n",
    "- Convert the temperature mean from Celsius to Fahrenheit degree by creating a function $fahrenheit(T) = T*9/5+32$ and apply it to the column `Mean`.\n",
    "- Sort observation by `Latitude` with northern cities on top.\n",
    "- Sort observation by `Latitude` with southern cities on top.."
   ]
  },
  {
   "cell_type": "markdown",
   "metadata": {
    "slideshow": {
     "slide_type": "slide"
    }
   },
   "source": [
    "### Exercise 14.3"
   ]
  },
  {
   "cell_type": "markdown",
   "metadata": {
    "slideshow": {
     "slide_type": "fragment"
    }
   },
   "source": [
    "- Keep only the months columns and transpose the dataframe. Create a new dataframe called `city_temp` and plot the results using `plot` and `boxplot`.\n",
    "- Use `describe`, `unique` and `value_counts` to the column `Region`.\n",
    "- Convert the `Region` column  categorical type.\n",
    "- Use `group_by` to display cities by `Region`."
   ]
  },
  {
   "cell_type": "markdown",
   "metadata": {
    "slideshow": {
     "slide_type": "slide"
    }
   },
   "source": [
    "## Transferring R data sets into Python"
   ]
  },
  {
   "cell_type": "code",
   "execution_count": null,
   "metadata": {
    "slideshow": {
     "slide_type": "fragment"
    }
   },
   "outputs": [],
   "source": [
    "%load_ext rpy2.ipython"
   ]
  },
  {
   "cell_type": "code",
   "execution_count": null,
   "metadata": {},
   "outputs": [],
   "source": [
    "%%R\n",
    "library('missMDA')\n",
    "data(orange)\n",
    "estim_ncpPCA(orange)"
   ]
  },
  {
   "cell_type": "markdown",
   "metadata": {
    "slideshow": {
     "slide_type": "fragment"
    }
   },
   "source": [
    "- conversions of R to pandas objects will be done automatically"
   ]
  },
  {
   "cell_type": "code",
   "execution_count": null,
   "metadata": {
    "slideshow": {
     "slide_type": "fragment"
    }
   },
   "outputs": [],
   "source": [
    "from rpy2.robjects import r, pandas2ri\n",
    "pandas2ri.activate()\n",
    "r.library('missMDA')\n",
    "r.data('orange')\n",
    "orange = r('orange')"
   ]
  },
  {
   "cell_type": "code",
   "execution_count": null,
   "metadata": {
    "slideshow": {
     "slide_type": "slide"
    }
   },
   "outputs": [],
   "source": [
    "orange"
   ]
  },
  {
   "cell_type": "code",
   "execution_count": null,
   "metadata": {},
   "outputs": [],
   "source": [
    "from rpy2.robjects.packages import importr\n",
    "missMDA = importr(\"missMDA\")"
   ]
  },
  {
   "cell_type": "code",
   "execution_count": null,
   "metadata": {},
   "outputs": [],
   "source": [
    "missMDA.estim_ncpPCA(orange)"
   ]
  },
  {
   "cell_type": "code",
   "execution_count": null,
   "metadata": {},
   "outputs": [],
   "source": [
    "res = missMDA.imputePCA(orange,ncp=2)"
   ]
  },
  {
   "cell_type": "code",
   "execution_count": null,
   "metadata": {},
   "outputs": [],
   "source": [
    "res[0]"
   ]
  },
  {
   "cell_type": "code",
   "execution_count": null,
   "metadata": {},
   "outputs": [],
   "source": [
    "import rpy2\n",
    "pd_dataframe = pd.DataFrame(np.array(res[0]),columns=orange.columns)"
   ]
  },
  {
   "cell_type": "code",
   "execution_count": null,
   "metadata": {},
   "outputs": [],
   "source": [
    "pd_dataframe"
   ]
  },
  {
   "cell_type": "code",
   "execution_count": null,
   "metadata": {
    "slideshow": {
     "slide_type": "slide"
    }
   },
   "outputs": [],
   "source": [
    "r('library(missMDA)')\n",
    "r('df <- imputePCA(orange,ncp=2) ')\n",
    "r('res <- as.data.frame(df$completeObs)')\n",
    "orange = r('res')\n",
    "orange"
   ]
  }
 ],
 "metadata": {
  "kernelspec": {
   "display_name": "Python (big-data)",
   "language": "python",
   "name": "big-data"
  },
  "language_info": {
   "codemirror_mode": {
    "name": "ipython",
    "version": 3
   },
   "file_extension": ".py",
   "mimetype": "text/x-python",
   "name": "python",
   "nbconvert_exporter": "python",
   "pygments_lexer": "ipython3",
   "version": "3.6.6"
  }
 },
 "nbformat": 4,
 "nbformat_minor": 2
}
