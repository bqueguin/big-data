{
 "cells": [
  {
   "cell_type": "markdown",
   "metadata": {
    "slideshow": {
     "slide_type": "slide"
    }
   },
   "source": [
    "# Map\n",
    "\n",
    "![domain decomposition](https://computing.llnl.gov/tutorials/parallel_comp/images/domain_decomp.gif)"
   ]
  },
  {
   "cell_type": "markdown",
   "metadata": {
    "slideshow": {
     "slide_type": "slide"
    }
   },
   "source": [
    "\n",
    "## `map` function example\n",
    "\n",
    "The `map(func, seq)` Python function applies the function func to all the elements of the sequence seq. It returns a new list with the elements changed by func"
   ]
  },
  {
   "cell_type": "code",
   "execution_count": 117,
   "metadata": {
    "slideshow": {
     "slide_type": "fragment"
    }
   },
   "outputs": [
    {
     "data": {
      "text/plain": [
       "<map at 0x1faed5d5f60>"
      ]
     },
     "execution_count": 117,
     "metadata": {},
     "output_type": "execute_result"
    }
   ],
   "source": [
    "def f(x):\n",
    "    return x * x\n",
    "\n",
    "rdd = [2, 6, -3, 7]\n",
    "res = map(f, rdd )\n",
    "res  # Res is an iterator"
   ]
  },
  {
   "cell_type": "code",
   "execution_count": 118,
   "metadata": {
    "slideshow": {
     "slide_type": "fragment"
    }
   },
   "outputs": [
    {
     "name": "stdout",
     "output_type": "stream",
     "text": [
      "4 36 9 49\n"
     ]
    }
   ],
   "source": [
    "print(*res)"
   ]
  },
  {
   "cell_type": "code",
   "execution_count": 119,
   "metadata": {
    "slideshow": {
     "slide_type": "slide"
    }
   },
   "outputs": [],
   "source": [
    "def f(x, y):\n",
    "    return x + y\n",
    "rdd1, rdd2 = [2, 6, -3, 7], [1, -4, 5, 3]\n",
    "res = map(f, rdd1, rdd2 ) # element wise sum of rdd1 and rdd2 "
   ]
  },
  {
   "cell_type": "code",
   "execution_count": 120,
   "metadata": {
    "slideshow": {
     "slide_type": "fragment"
    }
   },
   "outputs": [
    {
     "name": "stdout",
     "output_type": "stream",
     "text": [
      "3 2 2 10\n"
     ]
    }
   ],
   "source": [
    "print(*res)"
   ]
  },
  {
   "cell_type": "markdown",
   "metadata": {
    "slideshow": {
     "slide_type": "slide"
    }
   },
   "source": [
    "# Reduce\n",
    "\n",
    "![MapReduce](http://mm-tom.s3.amazonaws.com/blog/MapReduce.png)"
   ]
  },
  {
   "cell_type": "markdown",
   "metadata": {
    "slideshow": {
     "slide_type": "slide"
    }
   },
   "source": [
    "## `functools.reduce` example\n",
    "\n",
    "The function `reduce(func, seq)` continually applies the function func() to the sequence seq and return a single value. For example, reduce(f, [1, 2, 3, 4, 5]) calculates f(f(f(f(1,2),3),4),5)."
   ]
  },
  {
   "cell_type": "code",
   "execution_count": 121,
   "metadata": {
    "slideshow": {
     "slide_type": "fragment"
    }
   },
   "outputs": [
    {
     "data": {
      "text/plain": [
       "15"
      ]
     },
     "execution_count": 121,
     "metadata": {},
     "output_type": "execute_result"
    }
   ],
   "source": [
    "from functools import reduce\n",
    "from operator import add\n",
    "\n",
    "rdd = [1, 2, 3, 4, 5]\n",
    "reduce(add, rdd) # computes ((((1+2)+3)+4)+5)"
   ]
  },
  {
   "cell_type": "code",
   "execution_count": 122,
   "metadata": {
    "slideshow": {
     "slide_type": "fragment"
    }
   },
   "outputs": [
    {
     "data": {
      "text/plain": [
       "15"
      ]
     },
     "execution_count": 122,
     "metadata": {},
     "output_type": "execute_result"
    }
   ],
   "source": [
    "sum(rdd)"
   ]
  },
  {
   "cell_type": "code",
   "execution_count": 123,
   "metadata": {
    "slideshow": {
     "slide_type": "slide"
    }
   },
   "outputs": [
    {
     "data": {
      "text/plain": [
       "120"
      ]
     },
     "execution_count": 123,
     "metadata": {},
     "output_type": "execute_result"
    }
   ],
   "source": [
    "def g(x,y):\n",
    "    return x * y\n",
    "\n",
    "rdd = [1, 2, 3, 4, 5]\n",
    "reduce(g, rdd) "
   ]
  },
  {
   "cell_type": "code",
   "execution_count": 124,
   "metadata": {
    "slideshow": {
     "slide_type": "fragment"
    }
   },
   "outputs": [
    {
     "data": {
      "text/plain": [
       "120"
      ]
     },
     "execution_count": 124,
     "metadata": {},
     "output_type": "execute_result"
    }
   ],
   "source": [
    "p = 1\n",
    "for x in rdd:\n",
    "    p *= x\n",
    "p"
   ]
  },
  {
   "cell_type": "markdown",
   "metadata": {
    "slideshow": {
     "slide_type": "slide"
    }
   },
   "source": [
    "## Weighted mean and Variance\n",
    "\n",
    "If the generator of random variable $X$ is discrete with probability mass function $x_1 \\mapsto p_1, x_2 \\mapsto p_2, \\ldots, x_n \\mapsto p_n$ then\n",
    "\n",
    "$$\\operatorname{Var}(X) = \\left(\\sum_{i=1}^n p_i x_i ^2\\right) - \\mu^2,$$\n",
    "\n",
    "where $\\mu$ is the average value, i.e.\n",
    "\n",
    "$$\\mu = \\sum_{i=1}^n p_i x_i. $$"
   ]
  },
  {
   "cell_type": "code",
   "execution_count": 125,
   "metadata": {
    "slideshow": {
     "slide_type": "slide"
    }
   },
   "outputs": [],
   "source": [
    "X = [5, 1, 2, 3, 1, 2, 5, 4]\n",
    "P = [0.05, 0.05, 0.15, 0.05, 0.15, 0.2, 0.1, 0.25]"
   ]
  },
  {
   "cell_type": "markdown",
   "metadata": {
    "slideshow": {
     "slide_type": "fragment"
    }
   },
   "source": [
    "### Exercise 5.1\n",
    "\n",
    "- Write functions to compute the average value and variance using for loops"
   ]
  },
  {
   "cell_type": "code",
   "execution_count": 126,
   "metadata": {},
   "outputs": [
    {
     "data": {
      "text/plain": [
       "2.8"
      ]
     },
     "execution_count": 126,
     "metadata": {},
     "output_type": "execute_result"
    }
   ],
   "source": [
    "def average(X, P):\n",
    "    \"\"\"Compute the average value of X with weight P\"\"\"\n",
    "    avg = 0\n",
    "    for x, p in zip(X, P):\n",
    "        avg += x*p\n",
    "    return avg\n",
    "\n",
    "average(X, P)\n",
    "\n",
    "def average(X, P):\n",
    "    \"\"\"Compute the weighted average value of X with weight P\"\"\"\n",
    "    avg = sum([x*p for x,p in zip(X, P)])\n",
    "    return avg\n",
    "\n",
    "average(X, P)"
   ]
  },
  {
   "cell_type": "code",
   "execution_count": 127,
   "metadata": {},
   "outputs": [
    {
     "name": "stdout",
     "output_type": "stream",
     "text": [
      "Help on function average in module __main__:\n",
      "\n",
      "average(X, P)\n",
      "    Compute the weighted average value of X with weight P\n",
      "\n"
     ]
    }
   ],
   "source": [
    "help(average)"
   ]
  },
  {
   "cell_type": "code",
   "execution_count": 128,
   "metadata": {},
   "outputs": [
    {
     "data": {
      "text/plain": [
       "1.9600000000000017"
      ]
     },
     "execution_count": 128,
     "metadata": {},
     "output_type": "execute_result"
    }
   ],
   "source": [
    "def variance(X, P):\n",
    "    \"\"\"Compute the variance of X with weight P\"\"\"\n",
    "    var = 0\n",
    "    for x, p in zip(X, P):\n",
    "        var += p*x*x\n",
    "    var -= average(X, P)**2\n",
    "    return var\n",
    "\n",
    "variance(X, P)\n",
    "\n",
    "def variance(X, P):\n",
    "    \"\"\"Compute the variance of X with weight P\"\"\"\n",
    "    mu = average(X, P)\n",
    "    return(sum([p*x*x for x, p in zip(X,P)]) - mu**2)\n",
    "\n",
    "variance(X, P)"
   ]
  },
  {
   "cell_type": "markdown",
   "metadata": {
    "slideshow": {
     "slide_type": "fragment"
    }
   },
   "source": [
    "### Exercise 5.2\n",
    "\n",
    "- Write functions to compute the average value and variance using `map` and `reduce`"
   ]
  },
  {
   "cell_type": "code",
   "execution_count": 5,
   "metadata": {},
   "outputs": [
    {
     "ename": "NameError",
     "evalue": "name 'X' is not defined",
     "output_type": "error",
     "traceback": [
      "\u001b[1;31m---------------------------------------------------------------------------\u001b[0m",
      "\u001b[1;31mNameError\u001b[0m                                 Traceback (most recent call last)",
      "\u001b[1;32m<ipython-input-5-a618e3b5a749>\u001b[0m in \u001b[0;36m<module>\u001b[1;34m()\u001b[0m\n\u001b[0;32m      8\u001b[0m     \u001b[1;32mreturn\u001b[0m \u001b[0mavg\u001b[0m\u001b[1;33m\u001b[0m\u001b[0m\n\u001b[0;32m      9\u001b[0m \u001b[1;33m\u001b[0m\u001b[0m\n\u001b[1;32m---> 10\u001b[1;33m \u001b[0maverage_mr\u001b[0m\u001b[1;33m(\u001b[0m\u001b[0mX\u001b[0m\u001b[1;33m,\u001b[0m \u001b[0mP\u001b[0m\u001b[1;33m)\u001b[0m\u001b[1;33m\u001b[0m\u001b[0m\n\u001b[0m\u001b[0;32m     11\u001b[0m \u001b[1;33m\u001b[0m\u001b[0m\n",
      "\u001b[1;31mNameError\u001b[0m: name 'X' is not defined"
     ]
    }
   ],
   "source": [
    "from functools import reduce\n",
    "from operator import add, mul\n",
    "\n",
    "def average_mr(X, P):\n",
    "    \"\"\"Compute the weighted average value of X with weight P using map and reduce method\"\"\"\n",
    "    mapped = map(mul, X, P)\n",
    "    avg = reduce(add, mapped)\n",
    "    return avg\n",
    "\n",
    "average_mr(X, P)\n",
    "    "
   ]
  },
  {
   "cell_type": "code",
   "execution_count": 6,
   "metadata": {},
   "outputs": [
    {
     "ename": "NameError",
     "evalue": "name 'X' is not defined",
     "output_type": "error",
     "traceback": [
      "\u001b[1;31m---------------------------------------------------------------------------\u001b[0m",
      "\u001b[1;31mNameError\u001b[0m                                 Traceback (most recent call last)",
      "\u001b[1;32m<ipython-input-6-1089f3ba3f9e>\u001b[0m in \u001b[0;36m<module>\u001b[1;34m()\u001b[0m\n\u001b[0;32m      5\u001b[0m     \u001b[1;32mreturn\u001b[0m\u001b[1;33m(\u001b[0m\u001b[0mreduce\u001b[0m\u001b[1;33m(\u001b[0m\u001b[0madd\u001b[0m\u001b[1;33m,\u001b[0m \u001b[0mmapped\u001b[0m\u001b[1;33m)\u001b[0m \u001b[1;33m-\u001b[0m \u001b[0mmu\u001b[0m\u001b[1;33m**\u001b[0m\u001b[1;36m2\u001b[0m\u001b[1;33m)\u001b[0m\u001b[1;33m\u001b[0m\u001b[0m\n\u001b[0;32m      6\u001b[0m \u001b[1;33m\u001b[0m\u001b[0m\n\u001b[1;32m----> 7\u001b[1;33m \u001b[0mvariance_mr\u001b[0m\u001b[1;33m(\u001b[0m\u001b[0mX\u001b[0m\u001b[1;33m,\u001b[0m \u001b[0mP\u001b[0m\u001b[1;33m)\u001b[0m\u001b[1;33m\u001b[0m\u001b[0m\n\u001b[0m",
      "\u001b[1;31mNameError\u001b[0m: name 'X' is not defined"
     ]
    }
   ],
   "source": [
    "def variance_mr(X, P):\n",
    "    \"\"\"Compute the variance of X with weight P using map and reduce method\"\"\"\n",
    "    mu = average_mr(X, P)\n",
    "    mapped = map(lambda x,p:p*x*x, X, P)\n",
    "    return(reduce(add, mapped) - mu**2)\n",
    "    \n",
    "variance_mr(X, P)"
   ]
  },
  {
   "cell_type": "markdown",
   "metadata": {
    "slideshow": {
     "slide_type": "fragment"
    }
   },
   "source": [
    "*NB: Exercises above are just made to help to understand map-reduce process.\n",
    "This is a bad way to code a variance in Python. You should use [Numpy](http://www.numpy.org) instead.*"
   ]
  },
  {
   "cell_type": "markdown",
   "metadata": {
    "slideshow": {
     "slide_type": "slide"
    }
   },
   "source": [
    "## Wordcount \n",
    "\n",
    "We will modify the `wordcount` application into a map-reduce process.\n",
    "\n",
    "The `map` process takes text files as input and breaks it into words. The `reduce`  process sums the counts for each word and emits a single key/value with the word and sum.\n",
    "\n",
    "We need to split the wordcount function we wrote in notebook 04 in order to use map and reduce. \n",
    "\n",
    "In the following exercices we will implement in Python the Java example described in [Hadoop documentation](https://hadoop.apache.org/docs/current/hadoop-mapreduce-client/hadoop-mapreduce-client-core/MapReduceTutorial.html#Example:_WordCount_v1.0)."
   ]
  },
  {
   "cell_type": "markdown",
   "metadata": {
    "slideshow": {
     "slide_type": "slide"
    }
   },
   "source": [
    "# Map \n",
    "\n",
    "## Read file and return a key/value pairs\n",
    "\n",
    "### Exercise 5.3\n",
    "\n",
    "Write a function `mapper` with a single file name as input that returns a sorted sequence of tuples (word, 1) values.\n",
    "\n",
    "```pybt\n",
    "mapper('sample.txt')\n",
    "[('adipisci', 1), ('adipisci', 1), ('adipisci', 1), ('adipisci', 1), ('adipisci', 1), ('adipisci', 1), ('adipisci', 1), ('aliquam', 1), ('aliquam', 1), ('aliquam', 1), ('aliquam', 1), ('aliquam', 1), ('aliquam', 1), ('aliquam', 1), ('amet', 1), ('amet', 1), ('amet', 1)...\n",
    "```"
   ]
  },
  {
   "cell_type": "code",
   "execution_count": 14,
   "metadata": {},
   "outputs": [
    {
     "ename": "FileNotFoundError",
     "evalue": "[Errno 2] No such file or directory: 'sample1.txt'",
     "output_type": "error",
     "traceback": [
      "\u001b[1;31m---------------------------------------------------------------------------\u001b[0m",
      "\u001b[1;31mFileNotFoundError\u001b[0m                         Traceback (most recent call last)",
      "\u001b[1;32m<ipython-input-14-8c8a073e600f>\u001b[0m in \u001b[0;36m<module>\u001b[1;34m()\u001b[0m\n\u001b[0;32m      6\u001b[0m     \u001b[1;32mreturn\u001b[0m \u001b[1;33m[\u001b[0m\u001b[1;33m(\u001b[0m\u001b[0mword\u001b[0m\u001b[1;33m,\u001b[0m \u001b[1;36m1\u001b[0m\u001b[1;33m)\u001b[0m \u001b[1;32mfor\u001b[0m \u001b[0mword\u001b[0m \u001b[1;32min\u001b[0m \u001b[0mword_list\u001b[0m\u001b[1;33m]\u001b[0m\u001b[1;33m\u001b[0m\u001b[0m\n\u001b[0;32m      7\u001b[0m \u001b[1;33m\u001b[0m\u001b[0m\n\u001b[1;32m----> 8\u001b[1;33m \u001b[0mmapper\u001b[0m\u001b[1;33m(\u001b[0m\u001b[1;34m\"sample1.txt\"\u001b[0m\u001b[1;33m)\u001b[0m\u001b[1;33m\u001b[0m\u001b[0m\n\u001b[0m",
      "\u001b[1;32m<ipython-input-14-8c8a073e600f>\u001b[0m in \u001b[0;36mmapper\u001b[1;34m(filename)\u001b[0m\n\u001b[0;32m      1\u001b[0m \u001b[1;32mdef\u001b[0m \u001b[0mmapper\u001b[0m\u001b[1;33m(\u001b[0m\u001b[0mfilename\u001b[0m\u001b[1;33m)\u001b[0m\u001b[1;33m:\u001b[0m\u001b[1;33m\u001b[0m\u001b[0m\n\u001b[0;32m      2\u001b[0m     \u001b[1;34m\"\"\"Function with a single file name as input that returns a sorted sequence of tuples (word, 1) values.\"\"\"\u001b[0m\u001b[1;33m\u001b[0m\u001b[0m\n\u001b[1;32m----> 3\u001b[1;33m     \u001b[1;32mwith\u001b[0m \u001b[0mopen\u001b[0m\u001b[1;33m(\u001b[0m\u001b[0mfilename\u001b[0m\u001b[1;33m,\u001b[0m \u001b[1;34m'r'\u001b[0m\u001b[1;33m)\u001b[0m \u001b[1;32mas\u001b[0m \u001b[0mf\u001b[0m\u001b[1;33m:\u001b[0m\u001b[1;33m\u001b[0m\u001b[0m\n\u001b[0m\u001b[0;32m      4\u001b[0m         \u001b[0mtext\u001b[0m \u001b[1;33m=\u001b[0m \u001b[0mf\u001b[0m\u001b[1;33m.\u001b[0m\u001b[0mread\u001b[0m\u001b[1;33m(\u001b[0m\u001b[1;33m)\u001b[0m\u001b[1;33m\u001b[0m\u001b[0m\n\u001b[0;32m      5\u001b[0m     \u001b[0mword_list\u001b[0m \u001b[1;33m=\u001b[0m \u001b[0msorted\u001b[0m\u001b[1;33m(\u001b[0m\u001b[0mtext\u001b[0m\u001b[1;33m.\u001b[0m\u001b[0mlower\u001b[0m\u001b[1;33m(\u001b[0m\u001b[1;33m)\u001b[0m\u001b[1;33m.\u001b[0m\u001b[0mreplace\u001b[0m\u001b[1;33m(\u001b[0m\u001b[1;34m'.'\u001b[0m\u001b[1;33m,\u001b[0m \u001b[1;34m''\u001b[0m\u001b[1;33m)\u001b[0m\u001b[1;33m.\u001b[0m\u001b[0msplit\u001b[0m\u001b[1;33m(\u001b[0m\u001b[1;33m)\u001b[0m\u001b[1;33m)\u001b[0m\u001b[1;33m\u001b[0m\u001b[0m\n",
      "\u001b[1;31mFileNotFoundError\u001b[0m: [Errno 2] No such file or directory: 'sample1.txt'"
     ]
    }
   ],
   "source": [
    "def mapper(filename):\n",
    "    \"\"\"Function with a single file name as input that returns a sorted sequence of tuples (word, 1) values.\"\"\"\n",
    "    with open(filename, 'r') as f:\n",
    "        text = f.read()\n",
    "    word_list = sorted(text.lower().replace('.', '').split())\n",
    "    return [(word, 1) for word in word_list]\n",
    "\n",
    "mapper(\"sample1.txt\")    "
   ]
  },
  {
   "cell_type": "markdown",
   "metadata": {},
   "source": [
    "# Partition\n",
    "\n",
    "### Exercise 5.4\n",
    "\n",
    "Create a function named `partitioner` that stores the key/value pairs from `mapper`  that group (word, 1) pairs into a list as:\n",
    "```python\n",
    "partitioner(mapper('sample.txt'))\n",
    "[('adipisci', [1, 1, 1, 1, 1, 1, 1]), ('aliquam', [1, 1, 1, 1, 1, 1, 1]), ('amet', [1, 1, 1, 1],...]\n",
    "```"
   ]
  },
  {
   "cell_type": "code",
   "execution_count": 8,
   "metadata": {},
   "outputs": [
    {
     "data": {
      "text/plain": [
       "[('adipisci', [1, 1]),\n",
       " ('aliquam', [1, 1, 1, 1, 1, 1]),\n",
       " ('amet', [1, 1, 1, 1]),\n",
       " ('consectetur', [1, 1, 1]),\n",
       " ('dolor', [1, 1, 1, 1]),\n",
       " ('dolore', [1, 1, 1, 1, 1, 1]),\n",
       " ('dolorem', [1, 1, 1, 1, 1, 1]),\n",
       " ('eius', [1, 1, 1, 1, 1, 1, 1, 1, 1, 1]),\n",
       " ('est', [1, 1, 1, 1, 1]),\n",
       " ('etincidunt', [1, 1, 1]),\n",
       " ('ipsum', [1, 1, 1, 1]),\n",
       " ('labore', [1, 1]),\n",
       " ('magnam', [1, 1, 1, 1, 1, 1]),\n",
       " ('modi', [1, 1, 1, 1, 1, 1]),\n",
       " ('neque', [1, 1, 1, 1, 1]),\n",
       " ('non', [1, 1, 1, 1, 1, 1, 1, 1, 1, 1]),\n",
       " ('numquam', [1, 1, 1]),\n",
       " ('porro', [1, 1, 1, 1, 1, 1, 1]),\n",
       " ('quaerat', [1, 1, 1, 1]),\n",
       " ('quiquia', [1, 1, 1, 1, 1]),\n",
       " ('quisquam', [1]),\n",
       " ('sed', [1, 1]),\n",
       " ('sit', [1, 1, 1, 1]),\n",
       " ('tempora', [1, 1, 1, 1, 1, 1]),\n",
       " ('ut', [1, 1, 1, 1]),\n",
       " ('velit', [1, 1, 1, 1]),\n",
       " ('voluptatem', [1, 1, 1, 1, 1, 1])]"
      ]
     },
     "execution_count": 8,
     "metadata": {},
     "output_type": "execute_result"
    }
   ],
   "source": [
    "from collections import defaultdict\n",
    "\n",
    "def partitioner(mapper_res):\n",
    "    \"\"\"Function that stores the key/value pairs from mapper that group (word, 1) pairs into a list\n",
    "    of format (word, [1, 1, 1, ...] with n times 1, n is the number of occurences of word)\"\"\"\n",
    "    word_dict = defaultdict(list)\n",
    "    for word, occ in mapper_res:\n",
    "        word_dict[word].append(occ)\n",
    "    return sorted(list(word_dict.items()))\n",
    "\n",
    "partitioner(mapper('sample1.txt'))"
   ]
  },
  {
   "cell_type": "markdown",
   "metadata": {
    "slideshow": {
     "slide_type": "slide"
    }
   },
   "source": [
    "# Reduce \n",
    "\n",
    "## Sums the counts and returns a single key/value (word, sum).\n",
    "\n",
    "### Exercice 5.5\n",
    "\n",
    "Write the function `reducer` that read a tuple (word,[1,1,1,..,1]) and sum the occurrences of word to a final count, and then output the tuple (word,occurences).\n",
    "\n",
    "```python\n",
    "reducer(('hello',[1,1,1,1,1])\n",
    "('hello',5)\n",
    "```"
   ]
  },
  {
   "cell_type": "code",
   "execution_count": 9,
   "metadata": {},
   "outputs": [
    {
     "data": {
      "text/plain": [
       "('hello', 5)"
      ]
     },
     "execution_count": 9,
     "metadata": {},
     "output_type": "execute_result"
    }
   ],
   "source": [
    "def reducer(partition_elmt):\n",
    "    \"\"\"Function that read a tuple (word,[1,1,1,..,1]) and sum the occurrences of word to a final count,\n",
    "    and then output the tuple (word,occurences).\"\"\"\n",
    "    return (partition_elmt[0], len(partition_elmt[1]))\n",
    "\n",
    "reducer(('hello', [1,1,1,1,1]))"
   ]
  },
  {
   "cell_type": "markdown",
   "metadata": {
    "slideshow": {
     "slide_type": "slide"
    }
   },
   "source": [
    "# Process several files\n",
    "\n",
    "Let's create 8 files `sample[0-7].txt`. Set most common words at the top of the output list."
   ]
  },
  {
   "cell_type": "code",
   "execution_count": 10,
   "metadata": {
    "slideshow": {
     "slide_type": "fragment"
    }
   },
   "outputs": [],
   "source": [
    "from lorem import text\n",
    "for i in range(8):\n",
    "    with open(\"sample{0:02d}.txt\".format(i), \"w\") as f:\n",
    "        f.write(text())"
   ]
  },
  {
   "cell_type": "code",
   "execution_count": 11,
   "metadata": {
    "slideshow": {
     "slide_type": "slide"
    }
   },
   "outputs": [
    {
     "data": {
      "text/plain": [
       "['sample00.txt',\n",
       " 'sample01.txt',\n",
       " 'sample02.txt',\n",
       " 'sample03.txt',\n",
       " 'sample04.txt',\n",
       " 'sample05.txt',\n",
       " 'sample06.txt',\n",
       " 'sample07.txt']"
      ]
     },
     "execution_count": 11,
     "metadata": {},
     "output_type": "execute_result"
    }
   ],
   "source": [
    "import glob\n",
    "files = glob.glob('sample0*.txt')\n",
    "files"
   ]
  },
  {
   "cell_type": "markdown",
   "metadata": {
    "slideshow": {
     "slide_type": "slide"
    }
   },
   "source": [
    "### Exercise 5.6\n",
    "- Use functions implemented above to count (word, occurences) by using a for loops over files and partitioned data."
   ]
  },
  {
   "cell_type": "code",
   "execution_count": 13,
   "metadata": {},
   "outputs": [
    {
     "name": "stdout",
     "output_type": "stream",
     "text": [
      "Wall time: 4.01 ms\n"
     ]
    }
   ],
   "source": [
    "def wordcount(file_list):\n",
    "    \"\"\"Function taking for argument a list of files and returns the count (word, occurences)\n",
    "    of all files together sorted by the number of occurences\"\"\"\n",
    "    mapped, res = [], []\n",
    "    for file in file_list:\n",
    "        mapped += mapper(file)\n",
    "    \n",
    "    for i in partitioner(mapped):\n",
    "        res.append(reducer(i))\n",
    "    return sorted(res, key=lambda t:t[1], reverse=True)\n",
    "\n",
    "wordcount(files)"
   ]
  },
  {
   "cell_type": "markdown",
   "metadata": {
    "slideshow": {
     "slide_type": "slide"
    }
   },
   "source": [
    "### Exercise 5.7\n",
    "- This time use `map` function to apply mapper and reducer.\n"
   ]
  },
  {
   "cell_type": "code",
   "execution_count": 137,
   "metadata": {},
   "outputs": [
    {
     "data": {
      "text/plain": [
       "[('magnam', 85),\n",
       " ('tempora', 85),\n",
       " ('ipsum', 75),\n",
       " ('modi', 75),\n",
       " ('porro', 74),\n",
       " ('aliquam', 73),\n",
       " ('quisquam', 72),\n",
       " ('ut', 71),\n",
       " ('est', 70),\n",
       " ('labore', 70),\n",
       " ('quiquia', 70),\n",
       " ('dolor', 67),\n",
       " ('eius', 67),\n",
       " ('sit', 67),\n",
       " ('etincidunt', 66),\n",
       " ('voluptatem', 65),\n",
       " ('numquam', 64),\n",
       " ('quaerat', 64),\n",
       " ('dolorem', 63),\n",
       " ('non', 63),\n",
       " ('sed', 63),\n",
       " ('amet', 62),\n",
       " ('velit', 61),\n",
       " ('adipisci', 60),\n",
       " ('consectetur', 59),\n",
       " ('neque', 59),\n",
       " ('dolore', 48)]"
      ]
     },
     "execution_count": 137,
     "metadata": {},
     "output_type": "execute_result"
    }
   ],
   "source": [
    "from functools import reduce\n",
    "from itertools import chain\n",
    "\n",
    "def wordcount(file_list):\n",
    "    \"\"\"Function taking for argument a list of files and returns the count (word, occurences)\n",
    "    of all files together sorted by the number of occurences\"\"\"\n",
    "    mapped = map(mapper, file_list)\n",
    "    res = map(reducer, partitioner(chain(*mapped)))\n",
    "    return sorted(res, key=lambda t:t[1], reverse=True)\n",
    "\n",
    "wordcount(files)"
   ]
  },
  {
   "cell_type": "code",
   "execution_count": null,
   "metadata": {},
   "outputs": [],
   "source": []
  }
 ],
 "metadata": {
  "kernelspec": {
   "display_name": "Python 3",
   "language": "python",
   "name": "python3"
  },
  "language_info": {
   "codemirror_mode": {
    "name": "ipython",
    "version": 3
   },
   "file_extension": ".py",
   "mimetype": "text/x-python",
   "name": "python",
   "nbconvert_exporter": "python",
   "pygments_lexer": "ipython3",
   "version": "3.5.5"
  }
 },
 "nbformat": 4,
 "nbformat_minor": 2
}
