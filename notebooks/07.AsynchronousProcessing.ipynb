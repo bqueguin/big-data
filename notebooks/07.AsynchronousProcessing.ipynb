{
 "cells": [
  {
   "cell_type": "markdown",
   "metadata": {
    "slideshow": {
     "slide_type": "slide"
    }
   },
   "source": [
    "# Asynchronous Processing\n",
    "\n",
    "While many parallel applications can be described as maps, some can be more complex.\n",
    "In this section we look at the asynchronous `concurrent.futures` interface,\n",
    "which provides a simple API for ad-hoc parallelism.\n",
    "This is useful for when your computations don't fit a regular pattern."
   ]
  },
  {
   "cell_type": "markdown",
   "metadata": {
    "slideshow": {
     "slide_type": "fragment"
    }
   },
   "source": [
    "### Executor.submit\n",
    "\n",
    "The `submit` method starts a computation in a separate thread or process and immediately gives us a `Future` object that refers to the result.  At first, the future is pending.  Once the function completes the future is finished. \n",
    "\n",
    "We collect the result of the task with the `.result()` method,\n",
    "which does not return until the results are available."
   ]
  },
  {
   "cell_type": "code",
   "execution_count": 1,
   "metadata": {
    "slideshow": {
     "slide_type": "slide"
    }
   },
   "outputs": [
    {
     "name": "stdout",
     "output_type": "stream",
     "text": [
      "13\n",
      "Wall time: 1 s\n"
     ]
    }
   ],
   "source": [
    "%%time\n",
    "from time import sleep\n",
    "\n",
    "def slowadd(a, b, delay=1):\n",
    "    sleep(delay)\n",
    "    return a + b\n",
    "\n",
    "print(slowadd(4, 9))"
   ]
  },
  {
   "cell_type": "code",
   "execution_count": 2,
   "metadata": {
    "slideshow": {
     "slide_type": "fragment"
    }
   },
   "outputs": [
    {
     "data": {
      "text/plain": [
       "<Future at 0x1da564b51d0 state=running>"
      ]
     },
     "execution_count": 2,
     "metadata": {},
     "output_type": "execute_result"
    }
   ],
   "source": [
    "from concurrent.futures import ThreadPoolExecutor\n",
    "\n",
    "e = ThreadPoolExecutor()\n",
    "future = e.submit(slowadd, 1, 2)\n",
    "future"
   ]
  },
  {
   "cell_type": "code",
   "execution_count": 3,
   "metadata": {
    "slideshow": {
     "slide_type": "fragment"
    }
   },
   "outputs": [
    {
     "data": {
      "text/plain": [
       "3"
      ]
     },
     "execution_count": 3,
     "metadata": {},
     "output_type": "execute_result"
    }
   ],
   "source": [
    "future.result()"
   ]
  },
  {
   "cell_type": "markdown",
   "metadata": {
    "slideshow": {
     "slide_type": "slide"
    }
   },
   "source": [
    "### Submit many tasks, receive many futures\n",
    "\n",
    "Because submit returns immediately we can submit many tasks all at once and they will execute in parallel."
   ]
  },
  {
   "cell_type": "code",
   "execution_count": 4,
   "metadata": {
    "slideshow": {
     "slide_type": "fragment"
    }
   },
   "outputs": [
    {
     "name": "stdout",
     "output_type": "stream",
     "text": [
      "[0, 2, 4, 6, 8, 10, 12, 14]\n",
      "Wall time: 8.06 s\n"
     ]
    }
   ],
   "source": [
    "%%time\n",
    "results = [slowadd(i, i, delay=1) for i in range(8)]\n",
    "print(results)"
   ]
  },
  {
   "cell_type": "code",
   "execution_count": 5,
   "metadata": {
    "slideshow": {
     "slide_type": "fragment"
    }
   },
   "outputs": [
    {
     "name": "stdout",
     "output_type": "stream",
     "text": [
      "[0, 2, 4, 6, 8, 10, 12, 14]\n",
      "Wall time: 1.02 s\n"
     ]
    }
   ],
   "source": [
    "%%time\n",
    "e = ThreadPoolExecutor()\n",
    "futures = [e.submit(slowadd, i, i, delay=1) for i in range(8)]\n",
    "results = [f.result() for f in futures]\n",
    "print(results)"
   ]
  },
  {
   "cell_type": "markdown",
   "metadata": {
    "slideshow": {
     "slide_type": "slide"
    }
   },
   "source": [
    "*  Submit fires off a single function call in the background, returning a future.  \n",
    "*  When we combine submit with a single for loop we recover the functionality of map.  \n",
    "*  When we want to collect our results we replace each of our futures, `f`, with a call to `f.result()`\n",
    "*  We can combine submit with multiple for loops and other general programming to get something more general than map."
   ]
  },
  {
   "cell_type": "markdown",
   "metadata": {
    "slideshow": {
     "slide_type": "slide"
    }
   },
   "source": [
    "### Exercise 7.1\n",
    "\n",
    "Parallelize the following code with e.submit\n",
    "\n",
    "1.  Replace the `results` list with a list called `futures`\n",
    "2.  Replace calls to `slowadd` and `slowsub` with `e.submit` calls on those functions\n",
    "3.  At the end, block on the computation by recreating the `results` list by calling `.result()` on each future in the `futures` list."
   ]
  },
  {
   "cell_type": "code",
   "execution_count": 6,
   "metadata": {
    "slideshow": {
     "slide_type": "slide"
    }
   },
   "outputs": [
    {
     "name": "stdout",
     "output_type": "stream",
     "text": [
      "[1, 2, 3, 1, 3, 4, 2, 1, 5, 3, 2, 1]\n",
      "Wall time: 12 s\n"
     ]
    }
   ],
   "source": [
    "%%time\n",
    "from time import sleep\n",
    "\n",
    "def slowadd(a, b, delay=1):\n",
    "    sleep(delay)\n",
    "    return a + b\n",
    "\n",
    "def slowsub(a, b, delay=1):\n",
    "    sleep(delay)\n",
    "    return a - b\n",
    "\n",
    "results = []\n",
    "for i in range(4):\n",
    "    for j in range(4):\n",
    "        if i < j:\n",
    "            results.append(slowadd(i, j, delay=1))\n",
    "        elif i > j:\n",
    "            results.append(slowsub(i, j, delay=1))\n",
    "            \n",
    "print(results)"
   ]
  },
  {
   "cell_type": "code",
   "execution_count": 7,
   "metadata": {},
   "outputs": [
    {
     "name": "stdout",
     "output_type": "stream",
     "text": [
      "[1, 2, 3, 1, 3, 4, 2, 1, 5, 3, 2, 1]\n",
      "Wall time: 1.02 s\n"
     ]
    }
   ],
   "source": [
    "%%time\n",
    "from time import sleep\n",
    "from concurrent.futures import ThreadPoolExecutor\n",
    "\n",
    "def slowadd(a, b, delay=1):\n",
    "    sleep(delay)\n",
    "    return a + b\n",
    "\n",
    "def slowsub(a, b, delay=1):\n",
    "    sleep(delay)\n",
    "    return a - b\n",
    "\n",
    "e = ThreadPoolExecutor()\n",
    "futures = []\n",
    "for i in range(4):\n",
    "    for j in range(4):\n",
    "        if i < j:\n",
    "            futures.append(e.submit(slowadd, i, j))\n",
    "        elif i > j:\n",
    "            futures.append(e.submit(slowsub, i, j))\n",
    "            \n",
    "results = [i.result() for i in futures]            \n",
    "print(results)"
   ]
  },
  {
   "cell_type": "markdown",
   "metadata": {
    "slideshow": {
     "slide_type": "slide"
    }
   },
   "source": [
    "## Extract daily stock data from google"
   ]
  },
  {
   "cell_type": "code",
   "execution_count": 8,
   "metadata": {
    "slideshow": {
     "slide_type": "fragment"
    }
   },
   "outputs": [],
   "source": [
    "import os  # library to get directory and file paths\n",
    "import tarfile # this module makes possible to read and write tar archives\n",
    "\n",
    "def extract_data(name, where):\n",
    "    datadir = os.path.join(where,name)\n",
    "    if not os.path.exists(datadir):\n",
    "       print(\"Extracting data...\")\n",
    "       tar_path = os.path.join(where, name+'.tgz')\n",
    "       with tarfile.open(tar_path, mode='r:gz') as data:\n",
    "          data.extractall(where)\n",
    "            \n",
    "extract_data('daily-stock','../data') # this function call will extract json files"
   ]
  },
  {
   "cell_type": "markdown",
   "metadata": {
    "slideshow": {
     "slide_type": "slide"
    }
   },
   "source": [
    "## Convert data to pandas DataFrames and save it in hdf5 files\n",
    "\n",
    "[HDF5](https://portal.hdfgroup.org/display/support) is a data model, library, and file format for storing and managing data. This format is widely used and is supported by many languages and platforms."
   ]
  },
  {
   "cell_type": "code",
   "execution_count": 9,
   "metadata": {
    "slideshow": {
     "slide_type": "fragment"
    }
   },
   "outputs": [],
   "source": [
    "import json\n",
    "import pandas as pd\n",
    "import os, glob\n",
    "\n",
    "here = os.getcwd()\n",
    "datadir = os.path.join(here,'..','data','daily-stock')\n",
    "filenames = sorted(glob.glob(os.path.join(datadir, '*.json')))"
   ]
  },
  {
   "cell_type": "markdown",
   "metadata": {
    "slideshow": {
     "slide_type": "slide"
    }
   },
   "source": [
    "### Sequential version"
   ]
  },
  {
   "cell_type": "code",
   "execution_count": 10,
   "metadata": {
    "scrolled": true,
    "slideshow": {
     "slide_type": "fragment"
    }
   },
   "outputs": [
    {
     "name": "stdout",
     "output_type": "stream",
     "text": [
      "Finished : aet.h5\n",
      "Finished : afl.h5\n",
      "Finished : aig.h5\n",
      "Finished : al.h5\n",
      "Finished : amgn.h5\n",
      "Finished : avy.h5\n",
      "Finished : b.h5\n",
      "Finished : bwa.h5\n",
      "Finished : ge.h5\n",
      "Finished : hal.h5\n",
      "Finished : hp.h5\n",
      "Finished : hpq.h5\n",
      "Finished : ibm.h5\n",
      "Finished : jbl.h5\n",
      "Finished : jpm.h5\n",
      "Finished : luv.h5\n",
      "Finished : met.h5\n",
      "Finished : pcg.h5\n",
      "Finished : tgt.h5\n",
      "Finished : usb.h5\n",
      "Finished : xom.h5\n",
      "Wall time: 11.9 s\n"
     ]
    }
   ],
   "source": [
    "%%time\n",
    "\n",
    "for fn in filenames:\n",
    "    with open(fn) as f:\n",
    "        data = [json.loads(line) for line in f] # load \n",
    "        \n",
    "    df = pd.DataFrame(data) # parse \n",
    "    \n",
    "    out_filename = fn[:-5] + '.h5'\n",
    "    df.to_hdf(out_filename, '/data') # store\n",
    "    print(\"Finished : %s\" % (out_filename.split(os.path.sep)[-1]))"
   ]
  },
  {
   "cell_type": "markdown",
   "metadata": {
    "slideshow": {
     "slide_type": "slide"
    }
   },
   "source": [
    "### Exercise 7.2\n",
    "\n",
    "Parallelize the loop above using `ProcessPoolExecutor` and `map`."
   ]
  },
  {
   "cell_type": "code",
   "execution_count": 11,
   "metadata": {},
   "outputs": [
    {
     "name": "stdout",
     "output_type": "stream",
     "text": [
      "Wall time: 234 ms\n"
     ]
    }
   ],
   "source": [
    "%%time\n",
    "# Using submit\n",
    "\n",
    "#from loky import ProcessPoolExecutor\n",
    "from concurrent.futures import ThreadPoolExecutor\n",
    "\n",
    "def create_h5(filename):\n",
    "    with open(filename) as f:\n",
    "        data = [json.loads(line) for line in f] # load \n",
    "        \n",
    "    df = pd.DataFrame(data) # parse \n",
    "    \n",
    "    out_filename = filename[:-5] + '.h5'\n",
    "    df.to_hdf(out_filename, '/data') # store\n",
    "    print(\"Finished : %s\" % (out_filename.split(os.path.sep)[-1]))\n",
    "\n",
    "e = ThreadPoolExecutor()\n",
    "futures = [e.submit(create_h5, fn) for fn in filenames]"
   ]
  },
  {
   "cell_type": "code",
   "execution_count": 12,
   "metadata": {},
   "outputs": [
    {
     "name": "stdout",
     "output_type": "stream",
     "text": [
      "Finished : jpm.h5\n",
      "Finished : amgn.h5\n",
      "Finished : b.h5\n",
      "Finished : usb.h5\n",
      "Finished : afl.h5\n",
      "Finished : ge.h5\n",
      "Finished : ibm.h5\n",
      "Finished : hal.h5\n",
      "Finished : met.h5\n",
      "Finished : pcg.h5\n",
      "Finished : hpq.h5\n",
      "Finished : hp.h5\n",
      "Finished : tgt.h5\n",
      "Finished : avy.h5\n",
      "Finished : al.h5\n",
      "Finished : aig.h5\n",
      "Finished : bwa.h5\n",
      "Finished : luv.h5\n",
      "Finished : aet.h5\n",
      "Finished : jbl.h5\n",
      "Finished : xom.h5\n",
      "Wall time: 18.6 s\n"
     ]
    }
   ],
   "source": [
    "%%time\n",
    "# Using map\n",
    "\n",
    "from loky import ProcessPoolExecutor\n",
    "from concurrent.futures import ThreadPoolExecutor\n",
    "\n",
    "def create_h5(filename):\n",
    "    \"\"\"Create the HDF5 file associated to the json file enter as a parameter\"\"\"\n",
    "    with open(filename) as f:\n",
    "        data = [json.loads(line) for line in f] # load \n",
    "        \n",
    "    df = pd.DataFrame(data) # parse \n",
    "    \n",
    "    out_filename = filename[:-5] + '.h5'\n",
    "    df.to_hdf(out_filename, '/data') # store\n",
    "    print(\"Finished : %s\" % (out_filename.split(os.path.sep)[-1]))\n",
    "    return True\n",
    "\n",
    "with ProcessPoolExecutor() as e:\n",
    "    futures = e.map(create_h5, filenames)"
   ]
  },
  {
   "cell_type": "markdown",
   "metadata": {
    "slideshow": {
     "slide_type": "slide"
    }
   },
   "source": [
    "## Read files and load dataframes."
   ]
  },
  {
   "cell_type": "code",
   "execution_count": 13,
   "metadata": {
    "slideshow": {
     "slide_type": "fragment"
    }
   },
   "outputs": [],
   "source": [
    "filenames = sorted(glob.glob(os.path.join('..','data', 'daily-stock', '*.h5')))\n",
    "series ={}\n",
    "for fn in filenames:\n",
    "    series[fn] = pd.read_hdf(fn)['close']"
   ]
  },
  {
   "cell_type": "code",
   "execution_count": 14,
   "metadata": {},
   "outputs": [
    {
     "data": {
      "text/plain": [
       "pandas.core.series.Series"
      ]
     },
     "execution_count": 14,
     "metadata": {},
     "output_type": "execute_result"
    }
   ],
   "source": [
    "type(series[filenames[0]])"
   ]
  },
  {
   "cell_type": "markdown",
   "metadata": {
    "slideshow": {
     "slide_type": "slide"
    }
   },
   "source": [
    "## Application\n",
    "\n",
    "Given our HDF5 files from the last section we want to find the two datasets with the greatest pair-wise correlation.  This forces us to consider all $n\\times(n-1)$ possibilities.\n"
   ]
  },
  {
   "cell_type": "code",
   "execution_count": 15,
   "metadata": {
    "slideshow": {
     "slide_type": "fragment"
    }
   },
   "outputs": [
    {
     "name": "stdout",
     "output_type": "stream",
     "text": [
      "..\\data\\daily-stock\\aet.h5 matches with ..\\data\\daily-stock\\luv.h5 with correlation 0.941318\n",
      "Wall time: 1.17 s\n"
     ]
    }
   ],
   "source": [
    "%%time\n",
    "\n",
    "results = {}\n",
    "\n",
    "for a in filenames:\n",
    "    for b in filenames:\n",
    "        if a != b:\n",
    "            results[a, b] = series[a].corr(series[b])\n",
    "            \n",
    "((a, b), corr) = max(results.items(), key=lambda kv: kv[1])\n",
    "print(\"%s matches with %s with correlation %f\" % (a, b, corr))"
   ]
  },
  {
   "cell_type": "code",
   "execution_count": 16,
   "metadata": {},
   "outputs": [
    {
     "data": {
      "text/plain": [
       "{('..\\\\data\\\\daily-stock\\\\aet.h5',\n",
       "  '..\\\\data\\\\daily-stock\\\\afl.h5'): -0.45394822242875077,\n",
       " ('..\\\\data\\\\daily-stock\\\\aet.h5',\n",
       "  '..\\\\data\\\\daily-stock\\\\aig.h5'): 0.8651361071335492,\n",
       " ('..\\\\data\\\\daily-stock\\\\aet.h5',\n",
       "  '..\\\\data\\\\daily-stock\\\\al.h5'): 0.73201545360039,\n",
       " ('..\\\\data\\\\daily-stock\\\\aet.h5',\n",
       "  '..\\\\data\\\\daily-stock\\\\amgn.h5'): 0.789411495049158,\n",
       " ('..\\\\data\\\\daily-stock\\\\aet.h5',\n",
       "  '..\\\\data\\\\daily-stock\\\\avy.h5'): 0.43812135449887907,\n",
       " ('..\\\\data\\\\daily-stock\\\\aet.h5',\n",
       "  '..\\\\data\\\\daily-stock\\\\b.h5'): 0.11263325877226509,\n",
       " ('..\\\\data\\\\daily-stock\\\\aet.h5',\n",
       "  '..\\\\data\\\\daily-stock\\\\bwa.h5'): 0.5949529988921914,\n",
       " ('..\\\\data\\\\daily-stock\\\\aet.h5',\n",
       "  '..\\\\data\\\\daily-stock\\\\ge.h5'): 0.29062493824921093,\n",
       " ('..\\\\data\\\\daily-stock\\\\aet.h5',\n",
       "  '..\\\\data\\\\daily-stock\\\\hal.h5'): 0.3251107224616144,\n",
       " ('..\\\\data\\\\daily-stock\\\\aet.h5',\n",
       "  '..\\\\data\\\\daily-stock\\\\hp.h5'): 0.3985385379531551,\n",
       " ('..\\\\data\\\\daily-stock\\\\aet.h5',\n",
       "  '..\\\\data\\\\daily-stock\\\\hpq.h5'): 0.9249356778255264,\n",
       " ('..\\\\data\\\\daily-stock\\\\aet.h5',\n",
       "  '..\\\\data\\\\daily-stock\\\\ibm.h5'): -0.3319781038759638,\n",
       " ('..\\\\data\\\\daily-stock\\\\aet.h5',\n",
       "  '..\\\\data\\\\daily-stock\\\\jbl.h5'): -0.06618956221550182,\n",
       " ('..\\\\data\\\\daily-stock\\\\aet.h5',\n",
       "  '..\\\\data\\\\daily-stock\\\\jpm.h5'): 0.7715729700064441,\n",
       " ('..\\\\data\\\\daily-stock\\\\aet.h5',\n",
       "  '..\\\\data\\\\daily-stock\\\\luv.h5'): 0.9413176064560876,\n",
       " ('..\\\\data\\\\daily-stock\\\\aet.h5',\n",
       "  '..\\\\data\\\\daily-stock\\\\met.h5'): 0.7980302449942168,\n",
       " ('..\\\\data\\\\daily-stock\\\\aet.h5',\n",
       "  '..\\\\data\\\\daily-stock\\\\pcg.h5'): 0.8413588800846614,\n",
       " ('..\\\\data\\\\daily-stock\\\\aet.h5',\n",
       "  '..\\\\data\\\\daily-stock\\\\tgt.h5'): 0.07527316575743162,\n",
       " ('..\\\\data\\\\daily-stock\\\\aet.h5',\n",
       "  '..\\\\data\\\\daily-stock\\\\usb.h5'): 0.9050147913363339,\n",
       " ('..\\\\data\\\\daily-stock\\\\aet.h5',\n",
       "  '..\\\\data\\\\daily-stock\\\\xom.h5'): 0.4426766551343429,\n",
       " ('..\\\\data\\\\daily-stock\\\\afl.h5',\n",
       "  '..\\\\data\\\\daily-stock\\\\aet.h5'): -0.4539482224287507,\n",
       " ('..\\\\data\\\\daily-stock\\\\afl.h5',\n",
       "  '..\\\\data\\\\daily-stock\\\\aig.h5'): -0.21704496036002902,\n",
       " ('..\\\\data\\\\daily-stock\\\\afl.h5',\n",
       "  '..\\\\data\\\\daily-stock\\\\al.h5'): -0.08288459856179696,\n",
       " ('..\\\\data\\\\daily-stock\\\\afl.h5',\n",
       "  '..\\\\data\\\\daily-stock\\\\amgn.h5'): -0.5111263919307893,\n",
       " ('..\\\\data\\\\daily-stock\\\\afl.h5',\n",
       "  '..\\\\data\\\\daily-stock\\\\avy.h5'): 0.4010307291696264,\n",
       " ('..\\\\data\\\\daily-stock\\\\afl.h5',\n",
       "  '..\\\\data\\\\daily-stock\\\\b.h5'): 0.618922669806651,\n",
       " ('..\\\\data\\\\daily-stock\\\\afl.h5',\n",
       "  '..\\\\data\\\\daily-stock\\\\bwa.h5'): 0.05994219072813937,\n",
       " ('..\\\\data\\\\daily-stock\\\\afl.h5',\n",
       "  '..\\\\data\\\\daily-stock\\\\ge.h5'): 0.48297535922337587,\n",
       " ('..\\\\data\\\\daily-stock\\\\afl.h5',\n",
       "  '..\\\\data\\\\daily-stock\\\\hal.h5'): -0.018787156763158414,\n",
       " ('..\\\\data\\\\daily-stock\\\\afl.h5',\n",
       "  '..\\\\data\\\\daily-stock\\\\hp.h5'): 0.0716964467325089,\n",
       " ('..\\\\data\\\\daily-stock\\\\afl.h5',\n",
       "  '..\\\\data\\\\daily-stock\\\\hpq.h5'): -0.44152772570399396,\n",
       " ('..\\\\data\\\\daily-stock\\\\afl.h5',\n",
       "  '..\\\\data\\\\daily-stock\\\\ibm.h5'): 0.1789736853354014,\n",
       " ('..\\\\data\\\\daily-stock\\\\afl.h5',\n",
       "  '..\\\\data\\\\daily-stock\\\\jbl.h5'): -0.2649334830898135,\n",
       " ('..\\\\data\\\\daily-stock\\\\afl.h5',\n",
       "  '..\\\\data\\\\daily-stock\\\\jpm.h5'): -0.20014773025807653,\n",
       " ('..\\\\data\\\\daily-stock\\\\afl.h5',\n",
       "  '..\\\\data\\\\daily-stock\\\\luv.h5'): -0.5020244020909699,\n",
       " ('..\\\\data\\\\daily-stock\\\\afl.h5',\n",
       "  '..\\\\data\\\\daily-stock\\\\met.h5'): -0.008564284397645781,\n",
       " ('..\\\\data\\\\daily-stock\\\\afl.h5',\n",
       "  '..\\\\data\\\\daily-stock\\\\pcg.h5'): -0.5042156978670426,\n",
       " ('..\\\\data\\\\daily-stock\\\\afl.h5',\n",
       "  '..\\\\data\\\\daily-stock\\\\tgt.h5'): -0.12824296699475982,\n",
       " ('..\\\\data\\\\daily-stock\\\\afl.h5',\n",
       "  '..\\\\data\\\\daily-stock\\\\usb.h5'): -0.20262528681027345,\n",
       " ('..\\\\data\\\\daily-stock\\\\afl.h5',\n",
       "  '..\\\\data\\\\daily-stock\\\\xom.h5'): 0.1681936340608345,\n",
       " ('..\\\\data\\\\daily-stock\\\\aig.h5',\n",
       "  '..\\\\data\\\\daily-stock\\\\aet.h5'): 0.865136107133549,\n",
       " ('..\\\\data\\\\daily-stock\\\\aig.h5',\n",
       "  '..\\\\data\\\\daily-stock\\\\afl.h5'): -0.21704496036002902,\n",
       " ('..\\\\data\\\\daily-stock\\\\aig.h5',\n",
       "  '..\\\\data\\\\daily-stock\\\\al.h5'): 0.7227698250361523,\n",
       " ('..\\\\data\\\\daily-stock\\\\aig.h5',\n",
       "  '..\\\\data\\\\daily-stock\\\\amgn.h5'): 0.5967545861214841,\n",
       " ('..\\\\data\\\\daily-stock\\\\aig.h5',\n",
       "  '..\\\\data\\\\daily-stock\\\\avy.h5'): 0.4475000793948005,\n",
       " ('..\\\\data\\\\daily-stock\\\\aig.h5',\n",
       "  '..\\\\data\\\\daily-stock\\\\b.h5'): 0.21947092406896296,\n",
       " ('..\\\\data\\\\daily-stock\\\\aig.h5',\n",
       "  '..\\\\data\\\\daily-stock\\\\bwa.h5'): 0.662084881445667,\n",
       " ('..\\\\data\\\\daily-stock\\\\aig.h5',\n",
       "  '..\\\\data\\\\daily-stock\\\\ge.h5'): 0.47756013866732483,\n",
       " ('..\\\\data\\\\daily-stock\\\\aig.h5',\n",
       "  '..\\\\data\\\\daily-stock\\\\hal.h5'): 0.4792557981233419,\n",
       " ('..\\\\data\\\\daily-stock\\\\aig.h5',\n",
       "  '..\\\\data\\\\daily-stock\\\\hp.h5'): 0.48671032652003626,\n",
       " ('..\\\\data\\\\daily-stock\\\\aig.h5',\n",
       "  '..\\\\data\\\\daily-stock\\\\hpq.h5'): 0.7999921842416187,\n",
       " ('..\\\\data\\\\daily-stock\\\\aig.h5',\n",
       "  '..\\\\data\\\\daily-stock\\\\ibm.h5'): -0.19788635985094807,\n",
       " ('..\\\\data\\\\daily-stock\\\\aig.h5',\n",
       "  '..\\\\data\\\\daily-stock\\\\jbl.h5'): -0.021046065790782015,\n",
       " ('..\\\\data\\\\daily-stock\\\\aig.h5',\n",
       "  '..\\\\data\\\\daily-stock\\\\jpm.h5'): 0.6023258033087874,\n",
       " ('..\\\\data\\\\daily-stock\\\\aig.h5',\n",
       "  '..\\\\data\\\\daily-stock\\\\luv.h5'): 0.799980439172398,\n",
       " ('..\\\\data\\\\daily-stock\\\\aig.h5',\n",
       "  '..\\\\data\\\\daily-stock\\\\met.h5'): 0.8021833477358016,\n",
       " ('..\\\\data\\\\daily-stock\\\\aig.h5',\n",
       "  '..\\\\data\\\\daily-stock\\\\pcg.h5'): 0.6804898651091701,\n",
       " ('..\\\\data\\\\daily-stock\\\\aig.h5',\n",
       "  '..\\\\data\\\\daily-stock\\\\tgt.h5'): -0.028550636971161884,\n",
       " ('..\\\\data\\\\daily-stock\\\\aig.h5',\n",
       "  '..\\\\data\\\\daily-stock\\\\usb.h5'): 0.7978582203425719,\n",
       " ('..\\\\data\\\\daily-stock\\\\aig.h5',\n",
       "  '..\\\\data\\\\daily-stock\\\\xom.h5'): 0.5369898156838815,\n",
       " ('..\\\\data\\\\daily-stock\\\\al.h5',\n",
       "  '..\\\\data\\\\daily-stock\\\\aet.h5'): 0.73201545360039,\n",
       " ('..\\\\data\\\\daily-stock\\\\al.h5',\n",
       "  '..\\\\data\\\\daily-stock\\\\afl.h5'): -0.08288459856179697,\n",
       " ('..\\\\data\\\\daily-stock\\\\al.h5',\n",
       "  '..\\\\data\\\\daily-stock\\\\aig.h5'): 0.7227698250361523,\n",
       " ('..\\\\data\\\\daily-stock\\\\al.h5',\n",
       "  '..\\\\data\\\\daily-stock\\\\amgn.h5'): 0.3912934928391273,\n",
       " ('..\\\\data\\\\daily-stock\\\\al.h5',\n",
       "  '..\\\\data\\\\daily-stock\\\\avy.h5'): 0.6392473759787478,\n",
       " ('..\\\\data\\\\daily-stock\\\\al.h5',\n",
       "  '..\\\\data\\\\daily-stock\\\\b.h5'): 0.49815164842530063,\n",
       " ('..\\\\data\\\\daily-stock\\\\al.h5',\n",
       "  '..\\\\data\\\\daily-stock\\\\bwa.h5'): 0.8871248911451389,\n",
       " ('..\\\\data\\\\daily-stock\\\\al.h5',\n",
       "  '..\\\\data\\\\daily-stock\\\\ge.h5'): 0.5945208804598129,\n",
       " ('..\\\\data\\\\daily-stock\\\\al.h5',\n",
       "  '..\\\\data\\\\daily-stock\\\\hal.h5'): 0.6327744107199801,\n",
       " ('..\\\\data\\\\daily-stock\\\\al.h5',\n",
       "  '..\\\\data\\\\daily-stock\\\\hp.h5'): 0.7842491324670654,\n",
       " ('..\\\\data\\\\daily-stock\\\\al.h5',\n",
       "  '..\\\\data\\\\daily-stock\\\\hpq.h5'): 0.7833265148817755,\n",
       " ('..\\\\data\\\\daily-stock\\\\al.h5',\n",
       "  '..\\\\data\\\\daily-stock\\\\ibm.h5'): -0.04323069497002558,\n",
       " ('..\\\\data\\\\daily-stock\\\\al.h5',\n",
       "  '..\\\\data\\\\daily-stock\\\\jbl.h5'): -0.43020144893202655,\n",
       " ('..\\\\data\\\\daily-stock\\\\al.h5',\n",
       "  '..\\\\data\\\\daily-stock\\\\jpm.h5'): 0.5521666451587903,\n",
       " ('..\\\\data\\\\daily-stock\\\\al.h5',\n",
       "  '..\\\\data\\\\daily-stock\\\\luv.h5'): 0.6730814742799933,\n",
       " ('..\\\\data\\\\daily-stock\\\\al.h5',\n",
       "  '..\\\\data\\\\daily-stock\\\\met.h5'): 0.7088590331240895,\n",
       " ('..\\\\data\\\\daily-stock\\\\al.h5',\n",
       "  '..\\\\data\\\\daily-stock\\\\pcg.h5'): 0.5391488900164527,\n",
       " ('..\\\\data\\\\daily-stock\\\\al.h5',\n",
       "  '..\\\\data\\\\daily-stock\\\\tgt.h5'): -0.3787651788885311,\n",
       " ('..\\\\data\\\\daily-stock\\\\al.h5',\n",
       "  '..\\\\data\\\\daily-stock\\\\usb.h5'): 0.8141938795197673,\n",
       " ('..\\\\data\\\\daily-stock\\\\al.h5',\n",
       "  '..\\\\data\\\\daily-stock\\\\xom.h5'): 0.7406041778165625,\n",
       " ('..\\\\data\\\\daily-stock\\\\amgn.h5',\n",
       "  '..\\\\data\\\\daily-stock\\\\aet.h5'): 0.789411495049158,\n",
       " ('..\\\\data\\\\daily-stock\\\\amgn.h5',\n",
       "  '..\\\\data\\\\daily-stock\\\\afl.h5'): -0.5111263919307892,\n",
       " ('..\\\\data\\\\daily-stock\\\\amgn.h5',\n",
       "  '..\\\\data\\\\daily-stock\\\\aig.h5'): 0.5967545861214841,\n",
       " ('..\\\\data\\\\daily-stock\\\\amgn.h5',\n",
       "  '..\\\\data\\\\daily-stock\\\\al.h5'): 0.3912934928391273,\n",
       " ('..\\\\data\\\\daily-stock\\\\amgn.h5',\n",
       "  '..\\\\data\\\\daily-stock\\\\avy.h5'): 0.1879370284761572,\n",
       " ('..\\\\data\\\\daily-stock\\\\amgn.h5',\n",
       "  '..\\\\data\\\\daily-stock\\\\b.h5'): -0.06349982430391417,\n",
       " ('..\\\\data\\\\daily-stock\\\\amgn.h5',\n",
       "  '..\\\\data\\\\daily-stock\\\\bwa.h5'): 0.1417095580617425,\n",
       " ('..\\\\data\\\\daily-stock\\\\amgn.h5',\n",
       "  '..\\\\data\\\\daily-stock\\\\ge.h5'): 0.09223405489304747,\n",
       " ('..\\\\data\\\\daily-stock\\\\amgn.h5',\n",
       "  '..\\\\data\\\\daily-stock\\\\hal.h5'): -0.1587108351629471,\n",
       " ('..\\\\data\\\\daily-stock\\\\amgn.h5',\n",
       "  '..\\\\data\\\\daily-stock\\\\hp.h5'): -0.09611120016636857,\n",
       " ('..\\\\data\\\\daily-stock\\\\amgn.h5',\n",
       "  '..\\\\data\\\\daily-stock\\\\hpq.h5'): 0.7375603724560728,\n",
       " ('..\\\\data\\\\daily-stock\\\\amgn.h5',\n",
       "  '..\\\\data\\\\daily-stock\\\\ibm.h5'): -0.6645477701244639,\n",
       " ('..\\\\data\\\\daily-stock\\\\amgn.h5',\n",
       "  '..\\\\data\\\\daily-stock\\\\jbl.h5'): 0.06054428190161425,\n",
       " ('..\\\\data\\\\daily-stock\\\\amgn.h5',\n",
       "  '..\\\\data\\\\daily-stock\\\\jpm.h5'): 0.7431830321851052,\n",
       " ('..\\\\data\\\\daily-stock\\\\amgn.h5',\n",
       "  '..\\\\data\\\\daily-stock\\\\luv.h5'): 0.8988748507151847,\n",
       " ('..\\\\data\\\\daily-stock\\\\amgn.h5',\n",
       "  '..\\\\data\\\\daily-stock\\\\met.h5'): 0.5265945650527686,\n",
       " ('..\\\\data\\\\daily-stock\\\\amgn.h5',\n",
       "  '..\\\\data\\\\daily-stock\\\\pcg.h5'): 0.7823221410786275,\n",
       " ('..\\\\data\\\\daily-stock\\\\amgn.h5',\n",
       "  '..\\\\data\\\\daily-stock\\\\tgt.h5'): 0.3935684173156783,\n",
       " ('..\\\\data\\\\daily-stock\\\\amgn.h5',\n",
       "  '..\\\\data\\\\daily-stock\\\\usb.h5'): 0.6980199323158681,\n",
       " ('..\\\\data\\\\daily-stock\\\\amgn.h5',\n",
       "  '..\\\\data\\\\daily-stock\\\\xom.h5'): -0.026327660067596046,\n",
       " ('..\\\\data\\\\daily-stock\\\\avy.h5',\n",
       "  '..\\\\data\\\\daily-stock\\\\aet.h5'): 0.43812135449887907,\n",
       " ('..\\\\data\\\\daily-stock\\\\avy.h5',\n",
       "  '..\\\\data\\\\daily-stock\\\\afl.h5'): 0.40103072916962634,\n",
       " ('..\\\\data\\\\daily-stock\\\\avy.h5',\n",
       "  '..\\\\data\\\\daily-stock\\\\aig.h5'): 0.44750007939480047,\n",
       " ('..\\\\data\\\\daily-stock\\\\avy.h5',\n",
       "  '..\\\\data\\\\daily-stock\\\\al.h5'): 0.6392473759787479,\n",
       " ('..\\\\data\\\\daily-stock\\\\avy.h5',\n",
       "  '..\\\\data\\\\daily-stock\\\\amgn.h5'): 0.1879370284761572,\n",
       " ('..\\\\data\\\\daily-stock\\\\avy.h5',\n",
       "  '..\\\\data\\\\daily-stock\\\\b.h5'): 0.7591798310164105,\n",
       " ('..\\\\data\\\\daily-stock\\\\avy.h5',\n",
       "  '..\\\\data\\\\daily-stock\\\\bwa.h5'): 0.6711543390482155,\n",
       " ('..\\\\data\\\\daily-stock\\\\avy.h5',\n",
       "  '..\\\\data\\\\daily-stock\\\\ge.h5'): 0.6771626355997075,\n",
       " ('..\\\\data\\\\daily-stock\\\\avy.h5',\n",
       "  '..\\\\data\\\\daily-stock\\\\hal.h5'): 0.25669496962833316,\n",
       " ('..\\\\data\\\\daily-stock\\\\avy.h5',\n",
       "  '..\\\\data\\\\daily-stock\\\\hp.h5'): 0.5117938553947703,\n",
       " ('..\\\\data\\\\daily-stock\\\\avy.h5',\n",
       "  '..\\\\data\\\\daily-stock\\\\hpq.h5'): 0.4954734550790707,\n",
       " ('..\\\\data\\\\daily-stock\\\\avy.h5',\n",
       "  '..\\\\data\\\\daily-stock\\\\ibm.h5'): -0.08033765554727086,\n",
       " ('..\\\\data\\\\daily-stock\\\\avy.h5',\n",
       "  '..\\\\data\\\\daily-stock\\\\jbl.h5'): -0.5098627528437752,\n",
       " ('..\\\\data\\\\daily-stock\\\\avy.h5',\n",
       "  '..\\\\data\\\\daily-stock\\\\jpm.h5'): 0.5431673018918964,\n",
       " ('..\\\\data\\\\daily-stock\\\\avy.h5',\n",
       "  '..\\\\data\\\\daily-stock\\\\luv.h5'): 0.3649095774758307,\n",
       " ('..\\\\data\\\\daily-stock\\\\avy.h5',\n",
       "  '..\\\\data\\\\daily-stock\\\\met.h5'): 0.6767346963230767,\n",
       " ('..\\\\data\\\\daily-stock\\\\avy.h5',\n",
       "  '..\\\\data\\\\daily-stock\\\\pcg.h5'): 0.30011831256618,\n",
       " ('..\\\\data\\\\daily-stock\\\\avy.h5',\n",
       "  '..\\\\data\\\\daily-stock\\\\tgt.h5'): -0.15917026583319546,\n",
       " ('..\\\\data\\\\daily-stock\\\\avy.h5',\n",
       "  '..\\\\data\\\\daily-stock\\\\usb.h5'): 0.703867479505221,\n",
       " ('..\\\\data\\\\daily-stock\\\\avy.h5',\n",
       "  '..\\\\data\\\\daily-stock\\\\xom.h5'): 0.6351501260887874,\n",
       " ('..\\\\data\\\\daily-stock\\\\b.h5',\n",
       "  '..\\\\data\\\\daily-stock\\\\aet.h5'): 0.1126332587722651,\n",
       " ('..\\\\data\\\\daily-stock\\\\b.h5',\n",
       "  '..\\\\data\\\\daily-stock\\\\afl.h5'): 0.618922669806651,\n",
       " ('..\\\\data\\\\daily-stock\\\\b.h5',\n",
       "  '..\\\\data\\\\daily-stock\\\\aig.h5'): 0.21947092406896299,\n",
       " ('..\\\\data\\\\daily-stock\\\\b.h5',\n",
       "  '..\\\\data\\\\daily-stock\\\\al.h5'): 0.49815164842530063,\n",
       " ('..\\\\data\\\\daily-stock\\\\b.h5',\n",
       "  '..\\\\data\\\\daily-stock\\\\amgn.h5'): -0.06349982430391415,\n",
       " ('..\\\\data\\\\daily-stock\\\\b.h5',\n",
       "  '..\\\\data\\\\daily-stock\\\\avy.h5'): 0.7591798310164105,\n",
       " ('..\\\\data\\\\daily-stock\\\\b.h5',\n",
       "  '..\\\\data\\\\daily-stock\\\\bwa.h5'): 0.5571753374441887,\n",
       " ('..\\\\data\\\\daily-stock\\\\b.h5',\n",
       "  '..\\\\data\\\\daily-stock\\\\ge.h5'): 0.6286278068476494,\n",
       " ('..\\\\data\\\\daily-stock\\\\b.h5',\n",
       "  '..\\\\data\\\\daily-stock\\\\hal.h5'): 0.1491140239308653,\n",
       " ('..\\\\data\\\\daily-stock\\\\b.h5',\n",
       "  '..\\\\data\\\\daily-stock\\\\hp.h5'): 0.43636575934406985,\n",
       " ('..\\\\data\\\\daily-stock\\\\b.h5',\n",
       "  '..\\\\data\\\\daily-stock\\\\hpq.h5'): 0.13245920416978418,\n",
       " ('..\\\\data\\\\daily-stock\\\\b.h5',\n",
       "  '..\\\\data\\\\daily-stock\\\\ibm.h5'): -0.08538659850642508,\n",
       " ('..\\\\data\\\\daily-stock\\\\b.h5',\n",
       "  '..\\\\data\\\\daily-stock\\\\jbl.h5'): -0.5542943044463902,\n",
       " ('..\\\\data\\\\daily-stock\\\\b.h5',\n",
       "  '..\\\\data\\\\daily-stock\\\\jpm.h5'): 0.1779338792163798,\n",
       " ('..\\\\data\\\\daily-stock\\\\b.h5',\n",
       "  '..\\\\data\\\\daily-stock\\\\luv.h5'): 0.0573418783251048,\n",
       " ('..\\\\data\\\\daily-stock\\\\b.h5',\n",
       "  '..\\\\data\\\\daily-stock\\\\met.h5'): 0.3550628230994017,\n",
       " ('..\\\\data\\\\daily-stock\\\\b.h5',\n",
       "  '..\\\\data\\\\daily-stock\\\\pcg.h5'): 0.0292930034539503,\n",
       " ('..\\\\data\\\\daily-stock\\\\b.h5',\n",
       "  '..\\\\data\\\\daily-stock\\\\tgt.h5'): -0.28429119696588684,\n",
       " ('..\\\\data\\\\daily-stock\\\\b.h5',\n",
       "  '..\\\\data\\\\daily-stock\\\\usb.h5'): 0.4073267336926434,\n",
       " ('..\\\\data\\\\daily-stock\\\\b.h5',\n",
       "  '..\\\\data\\\\daily-stock\\\\xom.h5'): 0.4914838466322382,\n",
       " ('..\\\\data\\\\daily-stock\\\\bwa.h5',\n",
       "  '..\\\\data\\\\daily-stock\\\\aet.h5'): 0.5949529988921916,\n",
       " ('..\\\\data\\\\daily-stock\\\\bwa.h5',\n",
       "  '..\\\\data\\\\daily-stock\\\\afl.h5'): 0.05994219072813937,\n",
       " ('..\\\\data\\\\daily-stock\\\\bwa.h5',\n",
       "  '..\\\\data\\\\daily-stock\\\\aig.h5'): 0.662084881445667,\n",
       " ('..\\\\data\\\\daily-stock\\\\bwa.h5',\n",
       "  '..\\\\data\\\\daily-stock\\\\al.h5'): 0.8871248911451389,\n",
       " ('..\\\\data\\\\daily-stock\\\\bwa.h5',\n",
       "  '..\\\\data\\\\daily-stock\\\\amgn.h5'): 0.1417095580617425,\n",
       " ('..\\\\data\\\\daily-stock\\\\bwa.h5',\n",
       "  '..\\\\data\\\\daily-stock\\\\avy.h5'): 0.6711543390482155,\n",
       " ('..\\\\data\\\\daily-stock\\\\bwa.h5',\n",
       "  '..\\\\data\\\\daily-stock\\\\b.h5'): 0.5571753374441887,\n",
       " ('..\\\\data\\\\daily-stock\\\\bwa.h5',\n",
       "  '..\\\\data\\\\daily-stock\\\\ge.h5'): 0.5428705663995846,\n",
       " ('..\\\\data\\\\daily-stock\\\\bwa.h5',\n",
       "  '..\\\\data\\\\daily-stock\\\\hal.h5'): 0.7789562070989704,\n",
       " ('..\\\\data\\\\daily-stock\\\\bwa.h5',\n",
       "  '..\\\\data\\\\daily-stock\\\\hp.h5'): 0.9102527323704847,\n",
       " ('..\\\\data\\\\daily-stock\\\\bwa.h5',\n",
       "  '..\\\\data\\\\daily-stock\\\\hpq.h5'): 0.6347734210275084,\n",
       " ('..\\\\data\\\\daily-stock\\\\bwa.h5',\n",
       "  '..\\\\data\\\\daily-stock\\\\ibm.h5'): 0.20021108645787894,\n",
       " ('..\\\\data\\\\daily-stock\\\\bwa.h5',\n",
       "  '..\\\\data\\\\daily-stock\\\\jbl.h5'): -0.42645987634343785,\n",
       " ('..\\\\data\\\\daily-stock\\\\bwa.h5',\n",
       "  '..\\\\data\\\\daily-stock\\\\jpm.h5'): 0.4146104573745382,\n",
       " ('..\\\\data\\\\daily-stock\\\\bwa.h5',\n",
       "  '..\\\\data\\\\daily-stock\\\\luv.h5'): 0.46559996307437246,\n",
       " ('..\\\\data\\\\daily-stock\\\\bwa.h5',\n",
       "  '..\\\\data\\\\daily-stock\\\\met.h5'): 0.6711745022983542,\n",
       " ('..\\\\data\\\\daily-stock\\\\bwa.h5',\n",
       "  '..\\\\data\\\\daily-stock\\\\pcg.h5'): 0.34648964717893216,\n",
       " ('..\\\\data\\\\daily-stock\\\\bwa.h5',\n",
       "  '..\\\\data\\\\daily-stock\\\\tgt.h5'): -0.5530270026354086,\n",
       " ('..\\\\data\\\\daily-stock\\\\bwa.h5',\n",
       "  '..\\\\data\\\\daily-stock\\\\usb.h5'): 0.7039054978350051,\n",
       " ('..\\\\data\\\\daily-stock\\\\bwa.h5',\n",
       "  '..\\\\data\\\\daily-stock\\\\xom.h5'): 0.8129947188347948,\n",
       " ('..\\\\data\\\\daily-stock\\\\ge.h5',\n",
       "  '..\\\\data\\\\daily-stock\\\\aet.h5'): 0.29062493824921093,\n",
       " ('..\\\\data\\\\daily-stock\\\\ge.h5',\n",
       "  '..\\\\data\\\\daily-stock\\\\afl.h5'): 0.4829753592233758,\n",
       " ('..\\\\data\\\\daily-stock\\\\ge.h5',\n",
       "  '..\\\\data\\\\daily-stock\\\\aig.h5'): 0.47756013866732494,\n",
       " ('..\\\\data\\\\daily-stock\\\\ge.h5',\n",
       "  '..\\\\data\\\\daily-stock\\\\al.h5'): 0.5945208804598129,\n",
       " ('..\\\\data\\\\daily-stock\\\\ge.h5',\n",
       "  '..\\\\data\\\\daily-stock\\\\amgn.h5'): 0.09223405489304747,\n",
       " ('..\\\\data\\\\daily-stock\\\\ge.h5',\n",
       "  '..\\\\data\\\\daily-stock\\\\avy.h5'): 0.6771626355997075,\n",
       " ('..\\\\data\\\\daily-stock\\\\ge.h5',\n",
       "  '..\\\\data\\\\daily-stock\\\\b.h5'): 0.6286278068476494,\n",
       " ('..\\\\data\\\\daily-stock\\\\ge.h5',\n",
       "  '..\\\\data\\\\daily-stock\\\\bwa.h5'): 0.5428705663995846,\n",
       " ('..\\\\data\\\\daily-stock\\\\ge.h5',\n",
       "  '..\\\\data\\\\daily-stock\\\\hal.h5'): 0.369976820116356,\n",
       " ('..\\\\data\\\\daily-stock\\\\ge.h5',\n",
       "  '..\\\\data\\\\daily-stock\\\\hp.h5'): 0.48794451270885036,\n",
       " ('..\\\\data\\\\daily-stock\\\\ge.h5',\n",
       "  '..\\\\data\\\\daily-stock\\\\hpq.h5'): 0.3790667645302436,\n",
       " ('..\\\\data\\\\daily-stock\\\\ge.h5',\n",
       "  '..\\\\data\\\\daily-stock\\\\ibm.h5'): -0.05731143915590253,\n",
       " ('..\\\\data\\\\daily-stock\\\\ge.h5',\n",
       "  '..\\\\data\\\\daily-stock\\\\jbl.h5'): -0.5304121193778706,\n",
       " ('..\\\\data\\\\daily-stock\\\\ge.h5',\n",
       "  '..\\\\data\\\\daily-stock\\\\jpm.h5'): 0.39204728542653045,\n",
       " ('..\\\\data\\\\daily-stock\\\\ge.h5',\n",
       "  '..\\\\data\\\\daily-stock\\\\luv.h5'): 0.29766747232502455,\n",
       " ('..\\\\data\\\\daily-stock\\\\ge.h5',\n",
       "  '..\\\\data\\\\daily-stock\\\\met.h5'): 0.6219126922803427,\n",
       " ('..\\\\data\\\\daily-stock\\\\ge.h5',\n",
       "  '..\\\\data\\\\daily-stock\\\\pcg.h5'): 0.08838406993889336,\n",
       " ('..\\\\data\\\\daily-stock\\\\ge.h5',\n",
       "  '..\\\\data\\\\daily-stock\\\\tgt.h5'): -0.1987229471357567,\n",
       " ('..\\\\data\\\\daily-stock\\\\ge.h5',\n",
       "  '..\\\\data\\\\daily-stock\\\\usb.h5'): 0.4972804188288195,\n",
       " ('..\\\\data\\\\daily-stock\\\\ge.h5',\n",
       "  '..\\\\data\\\\daily-stock\\\\xom.h5'): 0.7217004795530868,\n",
       " ('..\\\\data\\\\daily-stock\\\\hal.h5',\n",
       "  '..\\\\data\\\\daily-stock\\\\aet.h5'): 0.32511072246161443,\n",
       " ('..\\\\data\\\\daily-stock\\\\hal.h5',\n",
       "  '..\\\\data\\\\daily-stock\\\\afl.h5'): -0.01878715676315841,\n",
       " ('..\\\\data\\\\daily-stock\\\\hal.h5',\n",
       "  '..\\\\data\\\\daily-stock\\\\aig.h5'): 0.4792557981233419,\n",
       " ('..\\\\data\\\\daily-stock\\\\hal.h5',\n",
       "  '..\\\\data\\\\daily-stock\\\\al.h5'): 0.6327744107199801,\n",
       " ('..\\\\data\\\\daily-stock\\\\hal.h5',\n",
       "  '..\\\\data\\\\daily-stock\\\\amgn.h5'): -0.1587108351629471,\n",
       " ('..\\\\data\\\\daily-stock\\\\hal.h5',\n",
       "  '..\\\\data\\\\daily-stock\\\\avy.h5'): 0.25669496962833316,\n",
       " ('..\\\\data\\\\daily-stock\\\\hal.h5',\n",
       "  '..\\\\data\\\\daily-stock\\\\b.h5'): 0.1491140239308653,\n",
       " ('..\\\\data\\\\daily-stock\\\\hal.h5',\n",
       "  '..\\\\data\\\\daily-stock\\\\bwa.h5'): 0.7789562070989703,\n",
       " ('..\\\\data\\\\daily-stock\\\\hal.h5',\n",
       "  '..\\\\data\\\\daily-stock\\\\ge.h5'): 0.369976820116356,\n",
       " ('..\\\\data\\\\daily-stock\\\\hal.h5',\n",
       "  '..\\\\data\\\\daily-stock\\\\hp.h5'): 0.9061198472707784,\n",
       " ('..\\\\data\\\\daily-stock\\\\hal.h5',\n",
       "  '..\\\\data\\\\daily-stock\\\\hpq.h5'): 0.3788619556684105,\n",
       " ('..\\\\data\\\\daily-stock\\\\hal.h5',\n",
       "  '..\\\\data\\\\daily-stock\\\\ibm.h5'): 0.528897674403659,\n",
       " ('..\\\\data\\\\daily-stock\\\\hal.h5',\n",
       "  '..\\\\data\\\\daily-stock\\\\jbl.h5'): -0.185346486607918,\n",
       " ('..\\\\data\\\\daily-stock\\\\hal.h5',\n",
       "  '..\\\\data\\\\daily-stock\\\\jpm.h5'): 0.09702618848491228,\n",
       " ('..\\\\data\\\\daily-stock\\\\hal.h5',\n",
       "  '..\\\\data\\\\daily-stock\\\\luv.h5'): 0.18817128054815488,\n",
       " ('..\\\\data\\\\daily-stock\\\\hal.h5',\n",
       "  '..\\\\data\\\\daily-stock\\\\met.h5'): 0.42186704967807803,\n",
       " ('..\\\\data\\\\daily-stock\\\\hal.h5',\n",
       "  '..\\\\data\\\\daily-stock\\\\pcg.h5'): 0.05014424983905861,\n",
       " ('..\\\\data\\\\daily-stock\\\\hal.h5',\n",
       "  '..\\\\data\\\\daily-stock\\\\tgt.h5'): -0.6808768310560402,\n",
       " ('..\\\\data\\\\daily-stock\\\\hal.h5',\n",
       "  '..\\\\data\\\\daily-stock\\\\usb.h5'): 0.31584214179010217,\n",
       " ('..\\\\data\\\\daily-stock\\\\hal.h5',\n",
       "  '..\\\\data\\\\daily-stock\\\\xom.h5'): 0.7241255798238627,\n",
       " ('..\\\\data\\\\daily-stock\\\\hp.h5',\n",
       "  '..\\\\data\\\\daily-stock\\\\aet.h5'): 0.398538537953155,\n",
       " ('..\\\\data\\\\daily-stock\\\\hp.h5',\n",
       "  '..\\\\data\\\\daily-stock\\\\afl.h5'): 0.07169644673250891,\n",
       " ('..\\\\data\\\\daily-stock\\\\hp.h5',\n",
       "  '..\\\\data\\\\daily-stock\\\\aig.h5'): 0.4867103265200363,\n",
       " ('..\\\\data\\\\daily-stock\\\\hp.h5',\n",
       "  '..\\\\data\\\\daily-stock\\\\al.h5'): 0.7842491324670653,\n",
       " ('..\\\\data\\\\daily-stock\\\\hp.h5',\n",
       "  '..\\\\data\\\\daily-stock\\\\amgn.h5'): -0.09611120016636855,\n",
       " ('..\\\\data\\\\daily-stock\\\\hp.h5',\n",
       "  '..\\\\data\\\\daily-stock\\\\avy.h5'): 0.5117938553947703,\n",
       " ('..\\\\data\\\\daily-stock\\\\hp.h5',\n",
       "  '..\\\\data\\\\daily-stock\\\\b.h5'): 0.43636575934406985,\n",
       " ('..\\\\data\\\\daily-stock\\\\hp.h5',\n",
       "  '..\\\\data\\\\daily-stock\\\\bwa.h5'): 0.9102527323704845,\n",
       " ('..\\\\data\\\\daily-stock\\\\hp.h5',\n",
       "  '..\\\\data\\\\daily-stock\\\\ge.h5'): 0.4879445127088505,\n",
       " ('..\\\\data\\\\daily-stock\\\\hp.h5',\n",
       "  '..\\\\data\\\\daily-stock\\\\hal.h5'): 0.9061198472707784,\n",
       " ('..\\\\data\\\\daily-stock\\\\hp.h5',\n",
       "  '..\\\\data\\\\daily-stock\\\\hpq.h5'): 0.48583884761904256,\n",
       " ('..\\\\data\\\\daily-stock\\\\hp.h5',\n",
       "  '..\\\\data\\\\daily-stock\\\\ibm.h5'): 0.42937270055379567,\n",
       " ('..\\\\data\\\\daily-stock\\\\hp.h5',\n",
       "  '..\\\\data\\\\daily-stock\\\\jbl.h5'): -0.47624373373390827,\n",
       " ('..\\\\data\\\\daily-stock\\\\hp.h5',\n",
       "  '..\\\\data\\\\daily-stock\\\\jpm.h5'): 0.2501452789034393,\n",
       " ('..\\\\data\\\\daily-stock\\\\hp.h5',\n",
       "  '..\\\\data\\\\daily-stock\\\\luv.h5'): 0.27231271721869416,\n",
       " ('..\\\\data\\\\daily-stock\\\\hp.h5',\n",
       "  '..\\\\data\\\\daily-stock\\\\met.h5'): 0.5011071427669166,\n",
       " ('..\\\\data\\\\daily-stock\\\\hp.h5',\n",
       "  '..\\\\data\\\\daily-stock\\\\pcg.h5'): 0.12590437710564598,\n",
       " ('..\\\\data\\\\daily-stock\\\\hp.h5',\n",
       "  '..\\\\data\\\\daily-stock\\\\tgt.h5'): -0.7243633229544602,\n",
       " ('..\\\\data\\\\daily-stock\\\\hp.h5',\n",
       "  '..\\\\data\\\\daily-stock\\\\usb.h5'): 0.5052094488900865,\n",
       " ('..\\\\data\\\\daily-stock\\\\hp.h5',\n",
       "  '..\\\\data\\\\daily-stock\\\\xom.h5'): 0.8187328724130928,\n",
       " ('..\\\\data\\\\daily-stock\\\\hpq.h5',\n",
       "  '..\\\\data\\\\daily-stock\\\\aet.h5'): 0.9249356778255264,\n",
       " ('..\\\\data\\\\daily-stock\\\\hpq.h5',\n",
       "  '..\\\\data\\\\daily-stock\\\\afl.h5'): -0.441527725703994,\n",
       " ('..\\\\data\\\\daily-stock\\\\hpq.h5',\n",
       "  '..\\\\data\\\\daily-stock\\\\aig.h5'): 0.7999921842416186,\n",
       " ('..\\\\data\\\\daily-stock\\\\hpq.h5',\n",
       "  '..\\\\data\\\\daily-stock\\\\al.h5'): 0.7833265148817755,\n",
       " ('..\\\\data\\\\daily-stock\\\\hpq.h5',\n",
       "  '..\\\\data\\\\daily-stock\\\\amgn.h5'): 0.7375603724560726,\n",
       " ('..\\\\data\\\\daily-stock\\\\hpq.h5',\n",
       "  '..\\\\data\\\\daily-stock\\\\avy.h5'): 0.4954734550790707,\n",
       " ('..\\\\data\\\\daily-stock\\\\hpq.h5',\n",
       "  '..\\\\data\\\\daily-stock\\\\b.h5'): 0.13245920416978418,\n",
       " ('..\\\\data\\\\daily-stock\\\\hpq.h5',\n",
       "  '..\\\\data\\\\daily-stock\\\\bwa.h5'): 0.6347734210275084,\n",
       " ('..\\\\data\\\\daily-stock\\\\hpq.h5',\n",
       "  '..\\\\data\\\\daily-stock\\\\ge.h5'): 0.3790667645302436,\n",
       " ('..\\\\data\\\\daily-stock\\\\hpq.h5',\n",
       "  '..\\\\data\\\\daily-stock\\\\hal.h5'): 0.37886195566841047,\n",
       " ('..\\\\data\\\\daily-stock\\\\hpq.h5',\n",
       "  '..\\\\data\\\\daily-stock\\\\hp.h5'): 0.48583884761904256,\n",
       " ('..\\\\data\\\\daily-stock\\\\hpq.h5',\n",
       "  '..\\\\data\\\\daily-stock\\\\ibm.h5'): -0.2685103349708333,\n",
       " ('..\\\\data\\\\daily-stock\\\\hpq.h5',\n",
       "  '..\\\\data\\\\daily-stock\\\\jbl.h5'): -0.23218508242331184,\n",
       " ('..\\\\data\\\\daily-stock\\\\hpq.h5',\n",
       "  '..\\\\data\\\\daily-stock\\\\jpm.h5'): 0.7979776648027084,\n",
       " ('..\\\\data\\\\daily-stock\\\\hpq.h5',\n",
       "  '..\\\\data\\\\daily-stock\\\\luv.h5'): 0.9352221550651463,\n",
       " ('..\\\\data\\\\daily-stock\\\\hpq.h5',\n",
       "  '..\\\\data\\\\daily-stock\\\\met.h5'): 0.7587963624571261,\n",
       " ('..\\\\data\\\\daily-stock\\\\hpq.h5',\n",
       "  '..\\\\data\\\\daily-stock\\\\pcg.h5'): 0.8101640561495296,\n",
       " ('..\\\\data\\\\daily-stock\\\\hpq.h5',\n",
       "  '..\\\\data\\\\daily-stock\\\\tgt.h5'): -0.00352093473747519,\n",
       " ('..\\\\data\\\\daily-stock\\\\hpq.h5',\n",
       "  '..\\\\data\\\\daily-stock\\\\usb.h5'): 0.9042800563728529,\n",
       " ('..\\\\data\\\\daily-stock\\\\hpq.h5',\n",
       "  '..\\\\data\\\\daily-stock\\\\xom.h5'): 0.5407929212955744,\n",
       " ('..\\\\data\\\\daily-stock\\\\ibm.h5',\n",
       "  '..\\\\data\\\\daily-stock\\\\aet.h5'): -0.3319781038759638,\n",
       " ('..\\\\data\\\\daily-stock\\\\ibm.h5',\n",
       "  '..\\\\data\\\\daily-stock\\\\afl.h5'): 0.1789736853354014,\n",
       " ('..\\\\data\\\\daily-stock\\\\ibm.h5',\n",
       "  '..\\\\data\\\\daily-stock\\\\aig.h5'): -0.19788635985094805,\n",
       " ('..\\\\data\\\\daily-stock\\\\ibm.h5',\n",
       "  '..\\\\data\\\\daily-stock\\\\al.h5'): -0.04323069497002558,\n",
       " ('..\\\\data\\\\daily-stock\\\\ibm.h5',\n",
       "  '..\\\\data\\\\daily-stock\\\\amgn.h5'): -0.6645477701244638,\n",
       " ('..\\\\data\\\\daily-stock\\\\ibm.h5',\n",
       "  '..\\\\data\\\\daily-stock\\\\avy.h5'): -0.08033765554727086,\n",
       " ('..\\\\data\\\\daily-stock\\\\ibm.h5',\n",
       "  '..\\\\data\\\\daily-stock\\\\b.h5'): -0.08538659850642509,\n",
       " ('..\\\\data\\\\daily-stock\\\\ibm.h5',\n",
       "  '..\\\\data\\\\daily-stock\\\\bwa.h5'): 0.20021108645787897,\n",
       " ('..\\\\data\\\\daily-stock\\\\ibm.h5',\n",
       "  '..\\\\data\\\\daily-stock\\\\ge.h5'): -0.05731143915590254,\n",
       " ('..\\\\data\\\\daily-stock\\\\ibm.h5',\n",
       "  '..\\\\data\\\\daily-stock\\\\hal.h5'): 0.528897674403659,\n",
       " ('..\\\\data\\\\daily-stock\\\\ibm.h5',\n",
       "  '..\\\\data\\\\daily-stock\\\\hp.h5'): 0.4293727005537957,\n",
       " ('..\\\\data\\\\daily-stock\\\\ibm.h5',\n",
       "  '..\\\\data\\\\daily-stock\\\\hpq.h5'): -0.2685103349708333,\n",
       " ('..\\\\data\\\\daily-stock\\\\ibm.h5',\n",
       "  '..\\\\data\\\\daily-stock\\\\jbl.h5'): -0.03236809863655627,\n",
       " ('..\\\\data\\\\daily-stock\\\\ibm.h5',\n",
       "  '..\\\\data\\\\daily-stock\\\\jpm.h5'): -0.29137464221918785,\n",
       " ('..\\\\data\\\\daily-stock\\\\ibm.h5',\n",
       "  '..\\\\data\\\\daily-stock\\\\luv.h5'): -0.485504549764106,\n",
       " ('..\\\\data\\\\daily-stock\\\\ibm.h5',\n",
       "  '..\\\\data\\\\daily-stock\\\\met.h5'): -0.11295403187616593,\n",
       " ('..\\\\data\\\\daily-stock\\\\ibm.h5',\n",
       "  '..\\\\data\\\\daily-stock\\\\pcg.h5'): -0.45106854694105053,\n",
       " ('..\\\\data\\\\daily-stock\\\\ibm.h5',\n",
       "  '..\\\\data\\\\daily-stock\\\\tgt.h5'): -0.40794797854332165,\n",
       " ('..\\\\data\\\\daily-stock\\\\ibm.h5',\n",
       "  '..\\\\data\\\\daily-stock\\\\usb.h5'): -0.3027564108235569,\n",
       " ('..\\\\data\\\\daily-stock\\\\ibm.h5',\n",
       "  '..\\\\data\\\\daily-stock\\\\xom.h5'): 0.30675270481180955,\n",
       " ('..\\\\data\\\\daily-stock\\\\jbl.h5',\n",
       "  '..\\\\data\\\\daily-stock\\\\aet.h5'): -0.06618956221550182,\n",
       " ('..\\\\data\\\\daily-stock\\\\jbl.h5',\n",
       "  '..\\\\data\\\\daily-stock\\\\afl.h5'): -0.2649334830898135,\n",
       " ('..\\\\data\\\\daily-stock\\\\jbl.h5',\n",
       "  '..\\\\data\\\\daily-stock\\\\aig.h5'): -0.021046065790782015,\n",
       " ('..\\\\data\\\\daily-stock\\\\jbl.h5',\n",
       "  '..\\\\data\\\\daily-stock\\\\al.h5'): -0.43020144893202655,\n",
       " ('..\\\\data\\\\daily-stock\\\\jbl.h5',\n",
       "  '..\\\\data\\\\daily-stock\\\\amgn.h5'): 0.06054428190161424,\n",
       " ('..\\\\data\\\\daily-stock\\\\jbl.h5',\n",
       "  '..\\\\data\\\\daily-stock\\\\avy.h5'): -0.5098627528437752,\n",
       " ('..\\\\data\\\\daily-stock\\\\jbl.h5',\n",
       "  '..\\\\data\\\\daily-stock\\\\b.h5'): -0.5542943044463902,\n",
       " ('..\\\\data\\\\daily-stock\\\\jbl.h5',\n",
       "  '..\\\\data\\\\daily-stock\\\\bwa.h5'): -0.42645987634343785,\n",
       " ('..\\\\data\\\\daily-stock\\\\jbl.h5',\n",
       "  '..\\\\data\\\\daily-stock\\\\ge.h5'): -0.5304121193778705,\n",
       " ('..\\\\data\\\\daily-stock\\\\jbl.h5',\n",
       "  '..\\\\data\\\\daily-stock\\\\hal.h5'): -0.185346486607918,\n",
       " ('..\\\\data\\\\daily-stock\\\\jbl.h5',\n",
       "  '..\\\\data\\\\daily-stock\\\\hp.h5'): -0.47624373373390827,\n",
       " ('..\\\\data\\\\daily-stock\\\\jbl.h5',\n",
       "  '..\\\\data\\\\daily-stock\\\\hpq.h5'): -0.23218508242331184,\n",
       " ('..\\\\data\\\\daily-stock\\\\jbl.h5',\n",
       "  '..\\\\data\\\\daily-stock\\\\ibm.h5'): -0.03236809863655627,\n",
       " ('..\\\\data\\\\daily-stock\\\\jbl.h5',\n",
       "  '..\\\\data\\\\daily-stock\\\\jpm.h5'): -0.25824551496821546,\n",
       " ('..\\\\data\\\\daily-stock\\\\jbl.h5',\n",
       "  '..\\\\data\\\\daily-stock\\\\luv.h5'): -0.1306571518381886,\n",
       " ('..\\\\data\\\\daily-stock\\\\jbl.h5',\n",
       "  '..\\\\data\\\\daily-stock\\\\met.h5'): -0.17929855932036357,\n",
       " ('..\\\\data\\\\daily-stock\\\\jbl.h5',\n",
       "  '..\\\\data\\\\daily-stock\\\\pcg.h5'): 0.1550562954432039,\n",
       " ('..\\\\data\\\\daily-stock\\\\jbl.h5',\n",
       "  '..\\\\data\\\\daily-stock\\\\tgt.h5'): 0.5029999803365679,\n",
       " ('..\\\\data\\\\daily-stock\\\\jbl.h5',\n",
       "  '..\\\\data\\\\daily-stock\\\\usb.h5'): -0.3230596342054255,\n",
       " ('..\\\\data\\\\daily-stock\\\\jbl.h5',\n",
       "  '..\\\\data\\\\daily-stock\\\\xom.h5'): -0.4982204917353129,\n",
       " ('..\\\\data\\\\daily-stock\\\\jpm.h5',\n",
       "  '..\\\\data\\\\daily-stock\\\\aet.h5'): 0.7715729700064441,\n",
       " ('..\\\\data\\\\daily-stock\\\\jpm.h5',\n",
       "  '..\\\\data\\\\daily-stock\\\\afl.h5'): -0.20014773025807653,\n",
       " ('..\\\\data\\\\daily-stock\\\\jpm.h5',\n",
       "  '..\\\\data\\\\daily-stock\\\\aig.h5'): 0.6023258033087873,\n",
       " ('..\\\\data\\\\daily-stock\\\\jpm.h5',\n",
       "  '..\\\\data\\\\daily-stock\\\\al.h5'): 0.5521666451587903,\n",
       " ('..\\\\data\\\\daily-stock\\\\jpm.h5',\n",
       "  '..\\\\data\\\\daily-stock\\\\amgn.h5'): 0.7431830321851052,\n",
       " ('..\\\\data\\\\daily-stock\\\\jpm.h5',\n",
       "  '..\\\\data\\\\daily-stock\\\\avy.h5'): 0.5431673018918964,\n",
       " ('..\\\\data\\\\daily-stock\\\\jpm.h5',\n",
       "  '..\\\\data\\\\daily-stock\\\\b.h5'): 0.1779338792163798,\n",
       " ('..\\\\data\\\\daily-stock\\\\jpm.h5',\n",
       "  '..\\\\data\\\\daily-stock\\\\bwa.h5'): 0.4146104573745382,\n",
       " ('..\\\\data\\\\daily-stock\\\\jpm.h5',\n",
       "  '..\\\\data\\\\daily-stock\\\\ge.h5'): 0.39204728542653045,\n",
       " ('..\\\\data\\\\daily-stock\\\\jpm.h5',\n",
       "  '..\\\\data\\\\daily-stock\\\\hal.h5'): 0.09702618848491226,\n",
       " ('..\\\\data\\\\daily-stock\\\\jpm.h5',\n",
       "  '..\\\\data\\\\daily-stock\\\\hp.h5'): 0.25014527890343935,\n",
       " ('..\\\\data\\\\daily-stock\\\\jpm.h5',\n",
       "  '..\\\\data\\\\daily-stock\\\\hpq.h5'): 0.7979776648027083,\n",
       " ('..\\\\data\\\\daily-stock\\\\jpm.h5',\n",
       "  '..\\\\data\\\\daily-stock\\\\ibm.h5'): -0.2913746422191878,\n",
       " ('..\\\\data\\\\daily-stock\\\\jpm.h5',\n",
       "  '..\\\\data\\\\daily-stock\\\\jbl.h5'): -0.25824551496821546,\n",
       " ('..\\\\data\\\\daily-stock\\\\jpm.h5',\n",
       "  '..\\\\data\\\\daily-stock\\\\luv.h5'): 0.7890790871875475,\n",
       " ('..\\\\data\\\\daily-stock\\\\jpm.h5',\n",
       "  '..\\\\data\\\\daily-stock\\\\met.h5'): 0.8044402565025913,\n",
       " ('..\\\\data\\\\daily-stock\\\\jpm.h5',\n",
       "  '..\\\\data\\\\daily-stock\\\\pcg.h5'): 0.6369000594383899,\n",
       " ('..\\\\data\\\\daily-stock\\\\jpm.h5',\n",
       "  '..\\\\data\\\\daily-stock\\\\tgt.h5'): 0.17012564217265877,\n",
       " ('..\\\\data\\\\daily-stock\\\\jpm.h5',\n",
       "  '..\\\\data\\\\daily-stock\\\\usb.h5'): 0.8481479840662484,\n",
       " ('..\\\\data\\\\daily-stock\\\\jpm.h5',\n",
       "  '..\\\\data\\\\daily-stock\\\\xom.h5'): 0.37687639221679625,\n",
       " ('..\\\\data\\\\daily-stock\\\\luv.h5',\n",
       "  '..\\\\data\\\\daily-stock\\\\aet.h5'): 0.9413176064560876,\n",
       " ('..\\\\data\\\\daily-stock\\\\luv.h5',\n",
       "  '..\\\\data\\\\daily-stock\\\\afl.h5'): -0.5020244020909699,\n",
       " ('..\\\\data\\\\daily-stock\\\\luv.h5',\n",
       "  '..\\\\data\\\\daily-stock\\\\aig.h5'): 0.7999804391723981,\n",
       " ('..\\\\data\\\\daily-stock\\\\luv.h5',\n",
       "  '..\\\\data\\\\daily-stock\\\\al.h5'): 0.6730814742799933,\n",
       " ('..\\\\data\\\\daily-stock\\\\luv.h5',\n",
       "  '..\\\\data\\\\daily-stock\\\\amgn.h5'): 0.8988748507151847,\n",
       " ('..\\\\data\\\\daily-stock\\\\luv.h5',\n",
       "  '..\\\\data\\\\daily-stock\\\\avy.h5'): 0.3649095774758307,\n",
       " ('..\\\\data\\\\daily-stock\\\\luv.h5',\n",
       "  '..\\\\data\\\\daily-stock\\\\b.h5'): 0.057341878325104796,\n",
       " ('..\\\\data\\\\daily-stock\\\\luv.h5',\n",
       "  '..\\\\data\\\\daily-stock\\\\bwa.h5'): 0.46559996307437246,\n",
       " ('..\\\\data\\\\daily-stock\\\\luv.h5',\n",
       "  '..\\\\data\\\\daily-stock\\\\ge.h5'): 0.29766747232502455,\n",
       " ('..\\\\data\\\\daily-stock\\\\luv.h5',\n",
       "  '..\\\\data\\\\daily-stock\\\\hal.h5'): 0.18817128054815488,\n",
       " ('..\\\\data\\\\daily-stock\\\\luv.h5',\n",
       "  '..\\\\data\\\\daily-stock\\\\hp.h5'): 0.27231271721869416,\n",
       " ('..\\\\data\\\\daily-stock\\\\luv.h5',\n",
       "  '..\\\\data\\\\daily-stock\\\\hpq.h5'): 0.9352221550651463,\n",
       " ('..\\\\data\\\\daily-stock\\\\luv.h5',\n",
       "  '..\\\\data\\\\daily-stock\\\\ibm.h5'): -0.485504549764106,\n",
       " ('..\\\\data\\\\daily-stock\\\\luv.h5',\n",
       "  '..\\\\data\\\\daily-stock\\\\jbl.h5'): -0.13065715183818863,\n",
       " ('..\\\\data\\\\daily-stock\\\\luv.h5',\n",
       "  '..\\\\data\\\\daily-stock\\\\jpm.h5'): 0.7890790871875474,\n",
       " ('..\\\\data\\\\daily-stock\\\\luv.h5',\n",
       "  '..\\\\data\\\\daily-stock\\\\met.h5'): 0.6983635844372134,\n",
       " ('..\\\\data\\\\daily-stock\\\\luv.h5',\n",
       "  '..\\\\data\\\\daily-stock\\\\pcg.h5'): 0.8386010194119866,\n",
       " ('..\\\\data\\\\daily-stock\\\\luv.h5',\n",
       "  '..\\\\data\\\\daily-stock\\\\tgt.h5'): 0.14546493255692725,\n",
       " ('..\\\\data\\\\daily-stock\\\\luv.h5',\n",
       "  '..\\\\data\\\\daily-stock\\\\usb.h5'): 0.8661271912565947,\n",
       " ('..\\\\data\\\\daily-stock\\\\luv.h5',\n",
       "  '..\\\\data\\\\daily-stock\\\\xom.h5'): 0.3186067190965606,\n",
       " ('..\\\\data\\\\daily-stock\\\\met.h5',\n",
       "  '..\\\\data\\\\daily-stock\\\\aet.h5'): 0.7980302449942168,\n",
       " ('..\\\\data\\\\daily-stock\\\\met.h5',\n",
       "  '..\\\\data\\\\daily-stock\\\\afl.h5'): -0.00856428439764578,\n",
       " ('..\\\\data\\\\daily-stock\\\\met.h5',\n",
       "  '..\\\\data\\\\daily-stock\\\\aig.h5'): 0.8021833477358016,\n",
       " ('..\\\\data\\\\daily-stock\\\\met.h5',\n",
       "  '..\\\\data\\\\daily-stock\\\\al.h5'): 0.7088590331240895,\n",
       " ('..\\\\data\\\\daily-stock\\\\met.h5',\n",
       "  '..\\\\data\\\\daily-stock\\\\amgn.h5'): 0.5265945650527686,\n",
       " ('..\\\\data\\\\daily-stock\\\\met.h5',\n",
       "  '..\\\\data\\\\daily-stock\\\\avy.h5'): 0.6767346963230767,\n",
       " ('..\\\\data\\\\daily-stock\\\\met.h5',\n",
       "  '..\\\\data\\\\daily-stock\\\\b.h5'): 0.3550628230994017,\n",
       " ('..\\\\data\\\\daily-stock\\\\met.h5',\n",
       "  '..\\\\data\\\\daily-stock\\\\bwa.h5'): 0.6711745022983542,\n",
       " ('..\\\\data\\\\daily-stock\\\\met.h5',\n",
       "  '..\\\\data\\\\daily-stock\\\\ge.h5'): 0.6219126922803427,\n",
       " ('..\\\\data\\\\daily-stock\\\\met.h5',\n",
       "  '..\\\\data\\\\daily-stock\\\\hal.h5'): 0.42186704967807803,\n",
       " ('..\\\\data\\\\daily-stock\\\\met.h5',\n",
       "  '..\\\\data\\\\daily-stock\\\\hp.h5'): 0.5011071427669166,\n",
       " ('..\\\\data\\\\daily-stock\\\\met.h5',\n",
       "  '..\\\\data\\\\daily-stock\\\\hpq.h5'): 0.758796362457126,\n",
       " ('..\\\\data\\\\daily-stock\\\\met.h5',\n",
       "  '..\\\\data\\\\daily-stock\\\\ibm.h5'): -0.11295403187616593,\n",
       " ('..\\\\data\\\\daily-stock\\\\met.h5',\n",
       "  '..\\\\data\\\\daily-stock\\\\jbl.h5'): -0.17929855932036357,\n",
       " ('..\\\\data\\\\daily-stock\\\\met.h5',\n",
       "  '..\\\\data\\\\daily-stock\\\\jpm.h5'): 0.8044402565025912,\n",
       " ('..\\\\data\\\\daily-stock\\\\met.h5',\n",
       "  '..\\\\data\\\\daily-stock\\\\luv.h5'): 0.6983635844372132,\n",
       " ('..\\\\data\\\\daily-stock\\\\met.h5',\n",
       "  '..\\\\data\\\\daily-stock\\\\pcg.h5'): 0.580959007680222,\n",
       " ('..\\\\data\\\\daily-stock\\\\met.h5',\n",
       "  '..\\\\data\\\\daily-stock\\\\tgt.h5'): 0.007915896235077166,\n",
       " ('..\\\\data\\\\daily-stock\\\\met.h5',\n",
       "  '..\\\\data\\\\daily-stock\\\\usb.h5'): 0.8618260858287585,\n",
       " ('..\\\\data\\\\daily-stock\\\\met.h5',\n",
       "  '..\\\\data\\\\daily-stock\\\\xom.h5'): 0.6572233659905431,\n",
       " ('..\\\\data\\\\daily-stock\\\\pcg.h5',\n",
       "  '..\\\\data\\\\daily-stock\\\\aet.h5'): 0.8413588800846614,\n",
       " ('..\\\\data\\\\daily-stock\\\\pcg.h5',\n",
       "  '..\\\\data\\\\daily-stock\\\\afl.h5'): -0.5042156978670426,\n",
       " ('..\\\\data\\\\daily-stock\\\\pcg.h5',\n",
       "  '..\\\\data\\\\daily-stock\\\\aig.h5'): 0.6804898651091702,\n",
       " ('..\\\\data\\\\daily-stock\\\\pcg.h5',\n",
       "  '..\\\\data\\\\daily-stock\\\\al.h5'): 0.5391488900164527,\n",
       " ('..\\\\data\\\\daily-stock\\\\pcg.h5',\n",
       "  '..\\\\data\\\\daily-stock\\\\amgn.h5'): 0.7823221410786275,\n",
       " ('..\\\\data\\\\daily-stock\\\\pcg.h5',\n",
       "  '..\\\\data\\\\daily-stock\\\\avy.h5'): 0.30011831256618,\n",
       " ('..\\\\data\\\\daily-stock\\\\pcg.h5',\n",
       "  '..\\\\data\\\\daily-stock\\\\b.h5'): 0.029293003453950296,\n",
       " ('..\\\\data\\\\daily-stock\\\\pcg.h5',\n",
       "  '..\\\\data\\\\daily-stock\\\\bwa.h5'): 0.34648964717893216,\n",
       " ('..\\\\data\\\\daily-stock\\\\pcg.h5',\n",
       "  '..\\\\data\\\\daily-stock\\\\ge.h5'): 0.08838406993889336,\n",
       " ('..\\\\data\\\\daily-stock\\\\pcg.h5',\n",
       "  '..\\\\data\\\\daily-stock\\\\hal.h5'): 0.05014424983905861,\n",
       " ('..\\\\data\\\\daily-stock\\\\pcg.h5',\n",
       "  '..\\\\data\\\\daily-stock\\\\hp.h5'): 0.12590437710564598,\n",
       " ('..\\\\data\\\\daily-stock\\\\pcg.h5',\n",
       "  '..\\\\data\\\\daily-stock\\\\hpq.h5'): 0.8101640561495296,\n",
       " ('..\\\\data\\\\daily-stock\\\\pcg.h5',\n",
       "  '..\\\\data\\\\daily-stock\\\\ibm.h5'): -0.45106854694105053,\n",
       " ('..\\\\data\\\\daily-stock\\\\pcg.h5',\n",
       "  '..\\\\data\\\\daily-stock\\\\jbl.h5'): 0.15505629544320387,\n",
       " ('..\\\\data\\\\daily-stock\\\\pcg.h5',\n",
       "  '..\\\\data\\\\daily-stock\\\\jpm.h5'): 0.6369000594383898,\n",
       " ('..\\\\data\\\\daily-stock\\\\pcg.h5',\n",
       "  '..\\\\data\\\\daily-stock\\\\luv.h5'): 0.8386010194119866,\n",
       " ('..\\\\data\\\\daily-stock\\\\pcg.h5',\n",
       "  '..\\\\data\\\\daily-stock\\\\met.h5'): 0.580959007680222,\n",
       " ('..\\\\data\\\\daily-stock\\\\pcg.h5',\n",
       "  '..\\\\data\\\\daily-stock\\\\tgt.h5'): 0.3726486386366338,\n",
       " ('..\\\\data\\\\daily-stock\\\\pcg.h5',\n",
       "  '..\\\\data\\\\daily-stock\\\\usb.h5'): 0.7445295134428412,\n",
       " ('..\\\\data\\\\daily-stock\\\\pcg.h5',\n",
       "  '..\\\\data\\\\daily-stock\\\\xom.h5'): 0.21293710702563307,\n",
       " ('..\\\\data\\\\daily-stock\\\\tgt.h5',\n",
       "  '..\\\\data\\\\daily-stock\\\\aet.h5'): 0.0752731657574316,\n",
       " ('..\\\\data\\\\daily-stock\\\\tgt.h5',\n",
       "  '..\\\\data\\\\daily-stock\\\\afl.h5'): -0.12824296699475984,\n",
       " ('..\\\\data\\\\daily-stock\\\\tgt.h5',\n",
       "  '..\\\\data\\\\daily-stock\\\\aig.h5'): -0.028550636971161888,\n",
       " ('..\\\\data\\\\daily-stock\\\\tgt.h5',\n",
       "  '..\\\\data\\\\daily-stock\\\\al.h5'): -0.3787651788885312,\n",
       " ('..\\\\data\\\\daily-stock\\\\tgt.h5',\n",
       "  '..\\\\data\\\\daily-stock\\\\amgn.h5'): 0.3935684173156783,\n",
       " ('..\\\\data\\\\daily-stock\\\\tgt.h5',\n",
       "  '..\\\\data\\\\daily-stock\\\\avy.h5'): -0.15917026583319546,\n",
       " ('..\\\\data\\\\daily-stock\\\\tgt.h5',\n",
       "  '..\\\\data\\\\daily-stock\\\\b.h5'): -0.28429119696588684,\n",
       " ('..\\\\data\\\\daily-stock\\\\tgt.h5',\n",
       "  '..\\\\data\\\\daily-stock\\\\bwa.h5'): -0.5530270026354086,\n",
       " ('..\\\\data\\\\daily-stock\\\\tgt.h5',\n",
       "  '..\\\\data\\\\daily-stock\\\\ge.h5'): -0.1987229471357567,\n",
       " ('..\\\\data\\\\daily-stock\\\\tgt.h5',\n",
       "  '..\\\\data\\\\daily-stock\\\\hal.h5'): -0.6808768310560402,\n",
       " ('..\\\\data\\\\daily-stock\\\\tgt.h5',\n",
       "  '..\\\\data\\\\daily-stock\\\\hp.h5'): -0.7243633229544602,\n",
       " ('..\\\\data\\\\daily-stock\\\\tgt.h5',\n",
       "  '..\\\\data\\\\daily-stock\\\\hpq.h5'): -0.0035209347374751897,\n",
       " ('..\\\\data\\\\daily-stock\\\\tgt.h5',\n",
       "  '..\\\\data\\\\daily-stock\\\\ibm.h5'): -0.4079479785433216,\n",
       " ('..\\\\data\\\\daily-stock\\\\tgt.h5',\n",
       "  '..\\\\data\\\\daily-stock\\\\jbl.h5'): 0.5029999803365679,\n",
       " ('..\\\\data\\\\daily-stock\\\\tgt.h5',\n",
       "  '..\\\\data\\\\daily-stock\\\\jpm.h5'): 0.17012564217265877,\n",
       " ('..\\\\data\\\\daily-stock\\\\tgt.h5',\n",
       "  '..\\\\data\\\\daily-stock\\\\luv.h5'): 0.14546493255692722,\n",
       " ('..\\\\data\\\\daily-stock\\\\tgt.h5',\n",
       "  '..\\\\data\\\\daily-stock\\\\met.h5'): 0.007915896235077166,\n",
       " ('..\\\\data\\\\daily-stock\\\\tgt.h5',\n",
       "  '..\\\\data\\\\daily-stock\\\\pcg.h5'): 0.37264863863663383,\n",
       " ('..\\\\data\\\\daily-stock\\\\tgt.h5',\n",
       "  '..\\\\data\\\\daily-stock\\\\usb.h5'): -0.028651346866640257,\n",
       " ('..\\\\data\\\\daily-stock\\\\tgt.h5',\n",
       "  '..\\\\data\\\\daily-stock\\\\xom.h5'): -0.4610482030612691,\n",
       " ('..\\\\data\\\\daily-stock\\\\usb.h5',\n",
       "  '..\\\\data\\\\daily-stock\\\\aet.h5'): 0.9050147913363339,\n",
       " ('..\\\\data\\\\daily-stock\\\\usb.h5',\n",
       "  '..\\\\data\\\\daily-stock\\\\afl.h5'): -0.20262528681027345,\n",
       " ('..\\\\data\\\\daily-stock\\\\usb.h5',\n",
       "  '..\\\\data\\\\daily-stock\\\\aig.h5'): 0.7978582203425719,\n",
       " ('..\\\\data\\\\daily-stock\\\\usb.h5',\n",
       "  '..\\\\data\\\\daily-stock\\\\al.h5'): 0.8141938795197673,\n",
       " ('..\\\\data\\\\daily-stock\\\\usb.h5',\n",
       "  '..\\\\data\\\\daily-stock\\\\amgn.h5'): 0.6980199323158681,\n",
       " ('..\\\\data\\\\daily-stock\\\\usb.h5',\n",
       "  '..\\\\data\\\\daily-stock\\\\avy.h5'): 0.703867479505221,\n",
       " ('..\\\\data\\\\daily-stock\\\\usb.h5',\n",
       "  '..\\\\data\\\\daily-stock\\\\b.h5'): 0.40732673369264333,\n",
       " ('..\\\\data\\\\daily-stock\\\\usb.h5',\n",
       "  '..\\\\data\\\\daily-stock\\\\bwa.h5'): 0.7039054978350052,\n",
       " ('..\\\\data\\\\daily-stock\\\\usb.h5',\n",
       "  '..\\\\data\\\\daily-stock\\\\ge.h5'): 0.49728041882881957,\n",
       " ('..\\\\data\\\\daily-stock\\\\usb.h5',\n",
       "  '..\\\\data\\\\daily-stock\\\\hal.h5'): 0.31584214179010217,\n",
       " ('..\\\\data\\\\daily-stock\\\\usb.h5',\n",
       "  '..\\\\data\\\\daily-stock\\\\hp.h5'): 0.5052094488900863,\n",
       " ('..\\\\data\\\\daily-stock\\\\usb.h5',\n",
       "  '..\\\\data\\\\daily-stock\\\\hpq.h5'): 0.9042800563728529,\n",
       " ('..\\\\data\\\\daily-stock\\\\usb.h5',\n",
       "  '..\\\\data\\\\daily-stock\\\\ibm.h5'): -0.3027564108235569,\n",
       " ('..\\\\data\\\\daily-stock\\\\usb.h5',\n",
       "  '..\\\\data\\\\daily-stock\\\\jbl.h5'): -0.3230596342054255,\n",
       " ('..\\\\data\\\\daily-stock\\\\usb.h5',\n",
       "  '..\\\\data\\\\daily-stock\\\\jpm.h5'): 0.8481479840662485,\n",
       " ('..\\\\data\\\\daily-stock\\\\usb.h5',\n",
       "  '..\\\\data\\\\daily-stock\\\\luv.h5'): 0.8661271912565947,\n",
       " ('..\\\\data\\\\daily-stock\\\\usb.h5',\n",
       "  '..\\\\data\\\\daily-stock\\\\met.h5'): 0.8618260858287584,\n",
       " ('..\\\\data\\\\daily-stock\\\\usb.h5',\n",
       "  '..\\\\data\\\\daily-stock\\\\pcg.h5'): 0.7445295134428412,\n",
       " ('..\\\\data\\\\daily-stock\\\\usb.h5',\n",
       "  '..\\\\data\\\\daily-stock\\\\tgt.h5'): -0.028651346866640254,\n",
       " ('..\\\\data\\\\daily-stock\\\\usb.h5',\n",
       "  '..\\\\data\\\\daily-stock\\\\xom.h5'): 0.5707255100986596,\n",
       " ('..\\\\data\\\\daily-stock\\\\xom.h5',\n",
       "  '..\\\\data\\\\daily-stock\\\\aet.h5'): 0.4426766551343429,\n",
       " ('..\\\\data\\\\daily-stock\\\\xom.h5',\n",
       "  '..\\\\data\\\\daily-stock\\\\afl.h5'): 0.1681936340608345,\n",
       " ('..\\\\data\\\\daily-stock\\\\xom.h5',\n",
       "  '..\\\\data\\\\daily-stock\\\\aig.h5'): 0.5369898156838815,\n",
       " ('..\\\\data\\\\daily-stock\\\\xom.h5',\n",
       "  '..\\\\data\\\\daily-stock\\\\al.h5'): 0.7406041778165624,\n",
       " ('..\\\\data\\\\daily-stock\\\\xom.h5',\n",
       "  '..\\\\data\\\\daily-stock\\\\amgn.h5'): -0.026327660067596046,\n",
       " ('..\\\\data\\\\daily-stock\\\\xom.h5',\n",
       "  '..\\\\data\\\\daily-stock\\\\avy.h5'): 0.6351501260887874,\n",
       " ('..\\\\data\\\\daily-stock\\\\xom.h5',\n",
       "  '..\\\\data\\\\daily-stock\\\\b.h5'): 0.49148384663223826,\n",
       " ('..\\\\data\\\\daily-stock\\\\xom.h5',\n",
       "  '..\\\\data\\\\daily-stock\\\\bwa.h5'): 0.8129947188347949,\n",
       " ('..\\\\data\\\\daily-stock\\\\xom.h5',\n",
       "  '..\\\\data\\\\daily-stock\\\\ge.h5'): 0.7217004795530869,\n",
       " ('..\\\\data\\\\daily-stock\\\\xom.h5',\n",
       "  '..\\\\data\\\\daily-stock\\\\hal.h5'): 0.7241255798238627,\n",
       " ('..\\\\data\\\\daily-stock\\\\xom.h5',\n",
       "  '..\\\\data\\\\daily-stock\\\\hp.h5'): 0.8187328724130928,\n",
       " ('..\\\\data\\\\daily-stock\\\\xom.h5',\n",
       "  '..\\\\data\\\\daily-stock\\\\hpq.h5'): 0.5407929212955744,\n",
       " ('..\\\\data\\\\daily-stock\\\\xom.h5',\n",
       "  '..\\\\data\\\\daily-stock\\\\ibm.h5'): 0.3067527048118096,\n",
       " ('..\\\\data\\\\daily-stock\\\\xom.h5',\n",
       "  '..\\\\data\\\\daily-stock\\\\jbl.h5'): -0.4982204917353129,\n",
       " ('..\\\\data\\\\daily-stock\\\\xom.h5',\n",
       "  '..\\\\data\\\\daily-stock\\\\jpm.h5'): 0.37687639221679625,\n",
       " ('..\\\\data\\\\daily-stock\\\\xom.h5',\n",
       "  '..\\\\data\\\\daily-stock\\\\luv.h5'): 0.3186067190965606,\n",
       " ('..\\\\data\\\\daily-stock\\\\xom.h5',\n",
       "  '..\\\\data\\\\daily-stock\\\\met.h5'): 0.6572233659905431,\n",
       " ('..\\\\data\\\\daily-stock\\\\xom.h5',\n",
       "  '..\\\\data\\\\daily-stock\\\\pcg.h5'): 0.21293710702563307,\n",
       " ('..\\\\data\\\\daily-stock\\\\xom.h5',\n",
       "  '..\\\\data\\\\daily-stock\\\\tgt.h5'): -0.46104820306126904,\n",
       " ('..\\\\data\\\\daily-stock\\\\xom.h5',\n",
       "  '..\\\\data\\\\daily-stock\\\\usb.h5'): 0.5707255100986596}"
      ]
     },
     "execution_count": 16,
     "metadata": {},
     "output_type": "execute_result"
    }
   ],
   "source": [
    "results"
   ]
  },
  {
   "cell_type": "code",
   "execution_count": 17,
   "metadata": {},
   "outputs": [
    {
     "data": {
      "text/plain": [
       "(('..\\\\data\\\\daily-stock\\\\aet.h5', '..\\\\data\\\\daily-stock\\\\luv.h5'),\n",
       " 0.9413176064560876)"
      ]
     },
     "execution_count": 17,
     "metadata": {},
     "output_type": "execute_result"
    }
   ],
   "source": [
    "max(results.items(), key=lambda kv: kv[1])"
   ]
  },
  {
   "cell_type": "markdown",
   "metadata": {
    "slideshow": {
     "slide_type": "slide"
    }
   },
   "source": [
    "We use matplotlib to visually inspect the highly correlated timeseries"
   ]
  },
  {
   "cell_type": "code",
   "execution_count": 18,
   "metadata": {
    "slideshow": {
     "slide_type": "fragment"
    }
   },
   "outputs": [
    {
     "data": {
      "image/png": "[encoded data removed]",
      "text/plain": [
       "<Figure size 720x288 with 1 Axes>"
      ]
     },
     "metadata": {
      "needs_background": "light"
     },
     "output_type": "display_data"
    }
   ],
   "source": [
    "%matplotlib inline\n",
    "from matplotlib import pyplot as plt\n",
    "plt.figure(figsize=(10, 4))\n",
    "plt.plot(series[a]/series[a].max())\n",
    "plt.plot(series[b]/series[b].max())\n",
    "plt.xticks(visible=False);"
   ]
  },
  {
   "cell_type": "markdown",
   "metadata": {
    "slideshow": {
     "slide_type": "slide"
    }
   },
   "source": [
    "## Analysis\n",
    "\n",
    "This computation starts out by loading data from disk. We already know how to parallelize it:\n",
    "\n",
    "```python\n",
    "series = {}\n",
    "for fn in filenames:\n",
    "    series[fn] = pd.read_hdf(fn)['x']\n",
    "```\n",
    "\n",
    "It follows with a doubly nested for loop with an if statement.  \n",
    "\n",
    "```python\n",
    "results = {}\n",
    "for a in filenames:\n",
    "    for b in filenames:\n",
    "        if a != b:\n",
    "            results[a, b] = series[a].corr(series[b])\n",
    "```\n",
    "\n",
    "It *is* possible to solve this problem with `map`, but it requires some cleverness.  Instead we'll learn `submit`, an interface to start individual function calls asynchronously.\n",
    "\n",
    "It finishes with a reduction on small data.  This part is fast enough.\n",
    "\n",
    "```python\n",
    "((a, b), corr) = max(results.items(), key=lambda kv: kv[1])\n",
    "```"
   ]
  },
  {
   "cell_type": "markdown",
   "metadata": {
    "slideshow": {
     "slide_type": "slide"
    }
   },
   "source": [
    "### Exercise 7.3\n",
    "- Parallelize pair-wise correlations with `e.submit`\n",
    "- Implement two versions one using Processes, another with Threads by replacing `e` with a ProcessPoolExecutor:\n",
    "\n",
    "#### Threads\n",
    "\n",
    "```python\n",
    "from concurrent.futures import ThreadPoolExecutor\n",
    "e = ThreadPoolExecutor(4)\n",
    "```\n",
    "\n",
    "#### Processes\n",
    "\n",
    "```python\n",
    "from concurrent.futures import ProcessPoolExecutor\n",
    "e = ProcessPoolExecutor(4)\n",
    "```\n",
    "\n",
    "- How does performance vary? "
   ]
  },
  {
   "cell_type": "code",
   "execution_count": 19,
   "metadata": {},
   "outputs": [
    {
     "data": {
      "text/plain": [
       "-0.45394822242875077"
      ]
     },
     "execution_count": 19,
     "metadata": {},
     "output_type": "execute_result"
    }
   ],
   "source": [
    "def correlation(fn1, fn2):\n",
    "    \"\"\"Return the correlation between 2 series contained in 2 HDF5 files which names are the parameters\"\"\"\n",
    "    cor = series[fn1].corr(series[fn2])\n",
    "    return(cor)\n",
    "\n",
    "correlation(filenames[0], filenames[1])"
   ]
  },
  {
   "cell_type": "code",
   "execution_count": 20,
   "metadata": {},
   "outputs": [
    {
     "name": "stdout",
     "output_type": "stream",
     "text": [
      "(('..\\\\data\\\\daily-stock\\\\aet.h5', '..\\\\data\\\\daily-stock\\\\luv.h5'), 0.9413176064560876)\n",
      "Wall time: 844 ms\n"
     ]
    }
   ],
   "source": [
    "%%time\n",
    "# with thread\n",
    "\n",
    "from concurrent.futures import ThreadPoolExecutor\n",
    "e = ThreadPoolExecutor(4)\n",
    "\n",
    "futures = {}\n",
    "for i in filenames:\n",
    "    for j in filenames:\n",
    "        if i!=j:\n",
    "            futures[i,j] = e.submit(correlation, i, j)\n",
    "            \n",
    "resultats = {key: value.result() for key, value in futures.items()}\n",
    "\n",
    "most_correlated = max(resultats.items(), key=lambda t:t[1])\n",
    "print(most_correlated)"
   ]
  },
  {
   "cell_type": "code",
   "execution_count": 29,
   "metadata": {},
   "outputs": [
    {
     "name": "stdout",
     "output_type": "stream",
     "text": [
      "(('..\\\\data\\\\daily-stock\\\\luv.h5', '..\\\\data\\\\daily-stock\\\\aet.h5'), 0.9413176064560876)\n",
      "Wall time: 781 ms\n"
     ]
    }
   ],
   "source": [
    "%%time\n",
    "# with thread\n",
    "\n",
    "from concurrent.futures import ThreadPoolExecutor\n",
    "e = ThreadPoolExecutor(4)\n",
    "\n",
    "futures = {(i,j): e.submit(correlation, i, j) for j in filenames for i in filenames if i!=j}\n",
    "            \n",
    "resultats = {key: value.result() for key, value in futures.items()}\n",
    "\n",
    "most_correlated = max(resultats.items(), key=lambda t:t[1])\n",
    "print(most_correlated)"
   ]
  },
  {
   "cell_type": "code",
   "execution_count": 21,
   "metadata": {},
   "outputs": [
    {
     "name": "stdout",
     "output_type": "stream",
     "text": [
      "(('..\\\\data\\\\daily-stock\\\\aet.h5', '..\\\\data\\\\daily-stock\\\\luv.h5'), 0.9413176064560876)\n",
      "Wall time: 45.9 s\n"
     ]
    }
   ],
   "source": [
    "%%time # takes more time...\n",
    "# with process\n",
    "\n",
    "from loky import ProcessPoolExecutor\n",
    "e = ProcessPoolExecutor(4)\n",
    "\n",
    "futures = {}\n",
    "for i in filenames:\n",
    "    for j in filenames:\n",
    "        if i!=j:\n",
    "            futures[i,j] = e.submit(correlation, i, j)\n",
    "            \n",
    "resultats = {key: value.result() for key, value in futures.items()}\n",
    "\n",
    "most_correlated = max(resultats.items(), key=lambda t:t[1])\n",
    "print(most_correlated)"
   ]
  },
  {
   "cell_type": "markdown",
   "metadata": {
    "slideshow": {
     "slide_type": "slide"
    }
   },
   "source": [
    "Some conclusions about futures\n",
    "----------------------------\n",
    "\n",
    "*  `submit` functions can help us to parallelize more complex applications\n",
    "*  It didn't actually speed up the code very much\n",
    "*  Threads and Processes give some performance differences\n",
    "*  This is not very robust."
   ]
  }
 ],
 "metadata": {
  "kernelspec": {
   "display_name": "Python 3",
   "language": "python",
   "name": "python3"
  },
  "language_info": {
   "codemirror_mode": {
    "name": "ipython",
    "version": 3
   },
   "file_extension": ".py",
   "mimetype": "text/x-python",
   "name": "python",
   "nbconvert_exporter": "python",
   "pygments_lexer": "ipython3",
   "version": "3.5.5"
  }
 },
 "nbformat": 4,
 "nbformat_minor": 2
}
